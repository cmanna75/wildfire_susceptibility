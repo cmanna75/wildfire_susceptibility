{
 "cells": [
  {
   "cell_type": "markdown",
   "id": "325747b0",
   "metadata": {},
   "source": [
    "# Google Earth Engine Download Example\n",
    "\n",
    "This notebook demonstrates how you can view, clip and download GIS Images from the Earth Engine Dataset\n",
    "\n",
    "\n",
    "In this example a Region from the YKDelta was studied and multiple download links were created to download GeoTiff files for this specific region\n",
    "For future projects I suggest that the Export.image.toDrive is utilized to store these images on the cloud to prevent a large data requirement on the computer\n",
    "In addition, the MODIS dataset should be used as the bands in this data set will be essential for most of the Hazard predictions"
   ]
  },
  {
   "cell_type": "markdown",
   "id": "c237dea2",
   "metadata": {},
   "source": [
    " Import Required Libraries"
   ]
  },
  {
   "cell_type": "code",
   "execution_count": 1,
   "id": "3f3c643c",
   "metadata": {},
   "outputs": [],
   "source": [
    "import ee\n",
    "import geemap\n",
    "import pandas as pd\n",
    "from IPython.display import Image"
   ]
  },
  {
   "cell_type": "markdown",
   "id": "19603327",
   "metadata": {},
   "source": [
    "Authenticate Google Earth Engine"
   ]
  },
  {
   "cell_type": "code",
   "execution_count": 2,
   "id": "e7c74e5c",
   "metadata": {
    "scrolled": false
   },
   "outputs": [
    {
     "data": {
      "text/html": [
       "<p>To authorize access needed by Earth Engine, open the following\n",
       "        URL in a web browser and follow the instructions:</p>\n",
       "        <p><a href=https://code.earthengine.google.com/client-auth?scopes=https%3A//www.googleapis.com/auth/earthengine%20https%3A//www.googleapis.com/auth/devstorage.full_control&request_id=yNLP9w-wzBA8Dnzn-A4G33t8Xk7IuCDehNSE1dCNlZ0&tc=-QADRMF6LTt56vew2gIoGLlPmXcd4o4_lbO1TGzYgro&cc=lassAHXacdPYvJwX123eaOKPLiV13YHI4QmyU66seL8>https://code.earthengine.google.com/client-auth?scopes=https%3A//www.googleapis.com/auth/earthengine%20https%3A//www.googleapis.com/auth/devstorage.full_control&request_id=yNLP9w-wzBA8Dnzn-A4G33t8Xk7IuCDehNSE1dCNlZ0&tc=-QADRMF6LTt56vew2gIoGLlPmXcd4o4_lbO1TGzYgro&cc=lassAHXacdPYvJwX123eaOKPLiV13YHI4QmyU66seL8</a></p>\n",
       "        <p>The authorization workflow will generate a code, which you should paste in the box below.</p>\n",
       "        "
      ],
      "text/plain": [
       "<IPython.core.display.HTML object>"
      ]
     },
     "metadata": {},
     "output_type": "display_data"
    },
    {
     "name": "stdout",
     "output_type": "stream",
     "text": [
      "Enter verification code: 4/1AZEOvhVO_TDeO_6IQ30Oe3MvdrYYocW86O7QeFPvUGSScfAlp14GjWkRECQ\n",
      "\n",
      "Successfully saved authorization token.\n"
     ]
    }
   ],
   "source": [
    "ee.Authenticate()\n",
    "ee.Initialize()"
   ]
  },
  {
   "cell_type": "markdown",
   "id": "3cc2863c",
   "metadata": {},
   "source": [
    "# Importing Data\n",
    "\n",
    "- Elevation, Slope, Aspect, NDVI, Temperature, Soil Moisture and Precipitation download links were produced\n",
    "- For NDVI, Temperature, and Soil Moisture a yearly average TIFF was downloaded for each year from 2000-2021."
   ]
  },
  {
   "cell_type": "markdown",
   "id": "15c09230",
   "metadata": {},
   "source": [
    "## Elevation"
   ]
  },
  {
   "cell_type": "code",
   "execution_count": 15,
   "id": "8c955cb3",
   "metadata": {},
   "outputs": [],
   "source": [
    "#Alaska boundary\n",
    "alaska_bound = ee.FeatureCollection('TIGER/2018/States').filter(ee.Filter.eq('STUSPS','AK'))\n",
    "\n",
    "#create section of Ykdelta\n",
    "lon = 62.83\n",
    "lat = -153\n",
    "poi = ee.Geometry.Point(lon,lat)\n",
    "poi_reprojected = poi.transform('EPSG:4269')\n",
    "box = [-165.5,61,-161,64]\n",
    "roi =  ee.Geometry.Rectangle(box)"
   ]
  },
  {
   "cell_type": "code",
   "execution_count": 4,
   "id": "a3f2f5a5",
   "metadata": {},
   "outputs": [
    {
     "data": {
      "text/html": [
       "<img src=\"https://earthengine.googleapis.com/v1alpha/projects/earthengine-legacy/thumbnails/4d74cac4d6a3f879200412b9825bbaba-8b408cf7f644ae98093f53ca80bcb797:getPixels\"/>"
      ],
      "text/plain": [
       "<IPython.core.display.Image object>"
      ]
     },
     "execution_count": 4,
     "metadata": {},
     "output_type": "execute_result"
    }
   ],
   "source": [
    "#Import Digital Elevation Model\n",
    "Dataset = ee.Image('USGS/3DEP/10m')\n",
    "Elevation = Dataset.select('elevation')\n",
    "\n",
    "#change alaska boundary to proper coordinate system\n",
    "alaska_bound_reprojected = alaska_bound.geometry().transform('EPSG:4269')\n",
    "\n",
    "#clip elevation to just alaska\n",
    "Elevation_Alaska = Elevation.clip(alaska_bound_reprojected)\n",
    "\n",
    "url = Elevation_Alaska.getThumbUrl({\n",
    "    'min': 0, 'max': 2500 ,'dimensions':512,\n",
    "    'palette': ['006633', 'E5FFCC', '662A00', 'D8D8D8', 'F5F5F5']})\n",
    "\n",
    "# Display\n",
    "Image(url=url)"
   ]
  },
  {
   "cell_type": "code",
   "execution_count": 20,
   "id": "dcaba9d0",
   "metadata": {},
   "outputs": [
    {
     "name": "stdout",
     "output_type": "stream",
     "text": [
      "https://earthengine.googleapis.com/v1alpha/projects/earthengine-legacy/thumbnails/0748ca9ba7ea5db7ca177b441d088d9a-2bd5c9ef4a9387f97900b246e9f52aa8:getPixels\n"
     ]
    },
    {
     "data": {
      "text/html": [
       "<img src=\"https://earthengine.googleapis.com/v1alpha/projects/earthengine-legacy/thumbnails/8a0ee02c92275f5df24bdeb8058236a6-532d5eec6d2329f1be5649e2f1e6631e:getPixels\"/>"
      ],
      "text/plain": [
       "<IPython.core.display.Image object>"
      ]
     },
     "execution_count": 20,
     "metadata": {},
     "output_type": "execute_result"
    }
   ],
   "source": [
    "Elevation_Alaska_reprojected = Elevation_Alaska.reproject(crs='WGS84')\n",
    "\n",
    "#get download link\n",
    "link = Elevation_Alaska.getDownloadURL({\n",
    "    'scale' : 130,\n",
    "    'crs' : 'EPSG:4269',\n",
    "    'fileFormat': 'GeoTIFF',\n",
    "    'region': roi,\n",
    "    'name': 'elevation'\n",
    "})\n",
    "print(link)\n",
    "\n",
    "url = Elevation_Alaska.getThumbUrl({\n",
    "    'min': 0, 'max': 2500 ,'region':roi,'dimensions':512,\n",
    "    'palette': ['006633', 'E5FFCC', '662A00', 'D8D8D8', 'F5F5F5']})\n",
    "Image(url=url)"
   ]
  },
  {
   "cell_type": "markdown",
   "id": "8b7811f7",
   "metadata": {},
   "source": [
    "## Slope\n",
    "\n",
    "- Slope is extracted from the previous imported Digital Elevation Module"
   ]
  },
  {
   "cell_type": "code",
   "execution_count": 21,
   "id": "49023df2",
   "metadata": {},
   "outputs": [
    {
     "data": {
      "text/html": [
       "<img src=\"https://earthengine.googleapis.com/v1alpha/projects/earthengine-legacy/thumbnails/540de3cc1b4d89ec4a3afb36e16fb39c-83365f4a0cecfc3f782ba8e8f921ce8c:getPixels\"/>"
      ],
      "text/plain": [
       "<IPython.core.display.Image object>"
      ]
     },
     "execution_count": 21,
     "metadata": {},
     "output_type": "execute_result"
    }
   ],
   "source": [
    "Slope_Alaska = ee.Terrain.slope(Elevation_Alaska)\n",
    "\n",
    "\n",
    "url = Slope_Alaska.getThumbUrl({\n",
    "    'min': 0, 'max': 90 ,'dimensions':512,\n",
    "    'palette': ['006633', 'E5FFCC', '662A00', 'D8D8D8', 'F5F5F5']})\n",
    "\n",
    "# Display\n",
    "Image(url=url)"
   ]
  },
  {
   "cell_type": "code",
   "execution_count": 22,
   "id": "2ade3d21",
   "metadata": {},
   "outputs": [
    {
     "name": "stdout",
     "output_type": "stream",
     "text": [
      "https://earthengine.googleapis.com/v1alpha/projects/earthengine-legacy/thumbnails/bad57b5aae9aae14a9a057286334d8ad-b81b6cd2d78da5e3bba08c3442dee273:getPixels\n"
     ]
    },
    {
     "data": {
      "text/html": [
       "<img src=\"https://earthengine.googleapis.com/v1alpha/projects/earthengine-legacy/thumbnails/a546d1b74b70c188aafaf855db4e4f14-eb9a82f25569235be1c4f7be31a46d65:getPixels\"/>"
      ],
      "text/plain": [
       "<IPython.core.display.Image object>"
      ]
     },
     "execution_count": 22,
     "metadata": {},
     "output_type": "execute_result"
    }
   ],
   "source": [
    "#get download link\n",
    "\n",
    "link = Slope_Alaska.getDownloadURL({\n",
    "    'scale' : 130,\n",
    "    'crs' : 'EPSG:4269',\n",
    "    'fileFormat': 'GeoTIFF',\n",
    "    'region': roi,\n",
    "    'name': 'slope'\n",
    "})\n",
    "print(link)\n",
    "\n",
    "url = Slope_Alaska.getThumbUrl({\n",
    "    'min': 0, 'max': 90 ,'region':roi,'dimensions':512,\n",
    "    'palette': ['006633', 'E5FFCC', '662A00', 'D8D8D8', 'F5F5F5']})\n",
    "Image(url=url)"
   ]
  },
  {
   "cell_type": "markdown",
   "id": "62faa300",
   "metadata": {},
   "source": [
    "## Aspect\n",
    "- Aspect is also extracted from the DEM"
   ]
  },
  {
   "cell_type": "code",
   "execution_count": 23,
   "id": "f37de923",
   "metadata": {},
   "outputs": [
    {
     "data": {
      "text/html": [
       "<img src=\"https://earthengine.googleapis.com/v1alpha/projects/earthengine-legacy/thumbnails/8e06af2214a33c1abd2d9d50ca11cfbb-fb8fd2228c53f2cff9d450271ea082e9:getPixels\"/>"
      ],
      "text/plain": [
       "<IPython.core.display.Image object>"
      ]
     },
     "execution_count": 23,
     "metadata": {},
     "output_type": "execute_result"
    }
   ],
   "source": [
    "Aspect_Alaska = ee.Terrain.aspect(Elevation_Alaska)\n",
    "\n",
    "url = Aspect_Alaska.getThumbUrl({\n",
    "    'min': 0, 'max': 360 ,'dimensions':512,\n",
    "    'palette': ['006633', 'E5FFCC', '662A00', 'D8D8D8', 'F5F5F5']})\n",
    "\n",
    "# Display\n",
    "Image(url=url)"
   ]
  },
  {
   "cell_type": "code",
   "execution_count": 24,
   "id": "da4ec5fd",
   "metadata": {
    "scrolled": true
   },
   "outputs": [
    {
     "name": "stdout",
     "output_type": "stream",
     "text": [
      "https://earthengine.googleapis.com/v1alpha/projects/earthengine-legacy/thumbnails/ba1cd7ca67024d65d689d0d30d988651-bfe95e2752b9c92bcf905e408e362fe4:getPixels\n"
     ]
    },
    {
     "data": {
      "text/html": [
       "<img src=\"https://earthengine.googleapis.com/v1alpha/projects/earthengine-legacy/thumbnails/f7ceaca4cc835f0dfb1b369b4465e767-d24c7bae3dce915ff4c9afaeafea4c9b:getPixels\"/>"
      ],
      "text/plain": [
       "<IPython.core.display.Image object>"
      ]
     },
     "execution_count": 24,
     "metadata": {},
     "output_type": "execute_result"
    }
   ],
   "source": [
    "#get download link\n",
    "\n",
    "link = Aspect_Alaska.getDownloadURL({\n",
    "    'scale' : 130,\n",
    "    'crs' : 'EPSG:4269',\n",
    "    'fileFormat': 'GeoTIFF',\n",
    "    'region': roi,\n",
    "    'name': 'aspect'\n",
    "})\n",
    "print(link)\n",
    "\n",
    "url = Aspect_Alaska.getThumbUrl({\n",
    "    'min': 0, 'max': 360 ,'region':roi,'dimensions':512,\n",
    "    'palette': ['006633', 'E5FFCC', '662A00', 'D8D8D8', 'F5F5F5']})\n",
    "Image(url=url)"
   ]
  },
  {
   "cell_type": "markdown",
   "id": "30767777",
   "metadata": {},
   "source": [
    "## NDVI"
   ]
  },
  {
   "cell_type": "code",
   "execution_count": 25,
   "id": "b7a49911",
   "metadata": {
    "scrolled": true
   },
   "outputs": [
    {
     "data": {
      "text/html": [
       "<img src=\"https://earthengine.googleapis.com/v1alpha/projects/earthengine-legacy/thumbnails/3fca0f5d00b622df5c73c282e9a18583-7e41d4e3c996a0cf8be0b34eb0271fb9:getPixels\"/>"
      ],
      "text/plain": [
       "<IPython.core.display.Image object>"
      ]
     },
     "execution_count": 25,
     "metadata": {},
     "output_type": "execute_result"
    }
   ],
   "source": [
    "#NDVI\n",
    "Dataset = ee.ImageCollection('MODIS/061/MYD13Q1').filterDate('2018-01-01','2018-02-01')\n",
    "\n",
    "NDVI = Dataset.select('NDVI')\n",
    "#NDVI_Alaska = NDVI.clip('alaska_bound_reprojected')\n",
    "NDVI_Alaska = NDVI.mosaic().clip(alaska_bound)\n",
    "url = NDVI_Alaska.getThumbUrl({\n",
    "   'min': -2000, 'max': 10000 ,'region':alaska_bound.geometry(), 'dimensions':2048,\n",
    "   'palette': ['006633', 'E5FFCC', '662A00', 'D8D8D8', 'F5F5F5']})\n",
    "Image(url=url)"
   ]
  },
  {
   "cell_type": "code",
   "execution_count": 30,
   "id": "9820dcad",
   "metadata": {
    "scrolled": false
   },
   "outputs": [
    {
     "name": "stdout",
     "output_type": "stream",
     "text": [
      "2000-01-01: https://earthengine.googleapis.com/v1alpha/projects/earthengine-legacy/thumbnails/7aab900a1b6d89867354556c620fe046-c3e8489b7f35f3cd37d463c86e8c708e:getPixels\n",
      "2001-01-01: https://earthengine.googleapis.com/v1alpha/projects/earthengine-legacy/thumbnails/33463a9976e7dbe7c541b8ca88cb3a1a-7b2c48c2f8e523d08adadbc2176f15f8:getPixels\n",
      "2002-01-01: https://earthengine.googleapis.com/v1alpha/projects/earthengine-legacy/thumbnails/e23f76d32f8558fa1427b37b2812847a-b28000f0b353496de4be5e13d34e3246:getPixels\n",
      "2003-01-01: https://earthengine.googleapis.com/v1alpha/projects/earthengine-legacy/thumbnails/a25136a56e6ab92ec9c69ecc97df5c45-195e85c535a78c56466a9346903c59d7:getPixels\n",
      "2004-01-01: https://earthengine.googleapis.com/v1alpha/projects/earthengine-legacy/thumbnails/4f9efcf61f1b1003530adc8efafb8978-d089cb6bb9a9ad7137ba9016762539ae:getPixels\n",
      "2005-01-01: https://earthengine.googleapis.com/v1alpha/projects/earthengine-legacy/thumbnails/e22d2c8ee9822fd9a86864b28a93c948-70c270fb158ffb5a66fc22a43f3ad6ab:getPixels\n",
      "2006-01-01: https://earthengine.googleapis.com/v1alpha/projects/earthengine-legacy/thumbnails/3ccd9a1670b7561c8f5b073d860a5984-e0a47e2b780f9aeecbf28f5aabe13d3a:getPixels\n",
      "2007-01-01: https://earthengine.googleapis.com/v1alpha/projects/earthengine-legacy/thumbnails/a84a0b359f276c0240786f3951a4399c-abc5f2f7a69b459914727a0834b4aae1:getPixels\n",
      "2008-01-01: https://earthengine.googleapis.com/v1alpha/projects/earthengine-legacy/thumbnails/d13d544584f15f3ab4616df6f97b4ab6-9e422a1d9767c08005706237ce06f1d6:getPixels\n",
      "2009-01-01: https://earthengine.googleapis.com/v1alpha/projects/earthengine-legacy/thumbnails/4ce3076f12e95647c90a8212ea35f23c-ae56fd43dfc01619435b2a1ea843ee27:getPixels\n",
      "2010-01-01: https://earthengine.googleapis.com/v1alpha/projects/earthengine-legacy/thumbnails/e0e9a574068280498c9d9a6e4ae35234-76829d4ee851a2bf26fcde20da427ead:getPixels\n",
      "2011-01-01: https://earthengine.googleapis.com/v1alpha/projects/earthengine-legacy/thumbnails/9ff4ad5510eadb977f7898bedea65067-4854c5498fa574493cfa740e6f47d57c:getPixels\n",
      "2012-01-01: https://earthengine.googleapis.com/v1alpha/projects/earthengine-legacy/thumbnails/5c8815957857c77cd53bf0945e3317ae-2f101713839b9c77d3165e8de2dd413e:getPixels\n",
      "2013-01-01: https://earthengine.googleapis.com/v1alpha/projects/earthengine-legacy/thumbnails/3b0264b689b425bb787b09c1dcbb4ce6-1ece6d9d1955dfad091d5032dc87a1b2:getPixels\n",
      "2014-01-01: https://earthengine.googleapis.com/v1alpha/projects/earthengine-legacy/thumbnails/786f6e18db7ec1ac27ca218418f9bf84-3794a560a7622f8a572de3fc82e9d93f:getPixels\n",
      "2015-01-01: https://earthengine.googleapis.com/v1alpha/projects/earthengine-legacy/thumbnails/6b4bb7e76c33dfd3cf62e4802e3d1180-9748515c15068d4d07939af5ab6d0ce1:getPixels\n",
      "2016-01-01: https://earthengine.googleapis.com/v1alpha/projects/earthengine-legacy/thumbnails/e0dc1d43de54e8deab6bfedff435ad17-f60822aa7c430f0411d7f60726905d7d:getPixels\n",
      "2017-01-01: https://earthengine.googleapis.com/v1alpha/projects/earthengine-legacy/thumbnails/1e59eb35efdaa178aacc31e047917e99-8cc0117c3feaadb313a4619e08e5d163:getPixels\n",
      "2018-01-01: https://earthengine.googleapis.com/v1alpha/projects/earthengine-legacy/thumbnails/834db25795684e1ef755ba6f9d8aa6e5-0f20bd4507d71ae47450d1b463e3d261:getPixels\n",
      "2019-01-01: https://earthengine.googleapis.com/v1alpha/projects/earthengine-legacy/thumbnails/16450d201842f234f6bd44ebe9b4eeae-3abcc2d7e208cf31b84c3a7eb5fb8020:getPixels\n",
      "2020-01-01: https://earthengine.googleapis.com/v1alpha/projects/earthengine-legacy/thumbnails/3c430816242a3604709f76b2cf58929e-bb34fea86c42281d4d3e06da60c7beb2:getPixels\n",
      "2021-01-01: https://earthengine.googleapis.com/v1alpha/projects/earthengine-legacy/thumbnails/973be0dc1e51122ff05a5aa29e5f354b-2510559cccb29463b46027a4e087debb:getPixels\n"
     ]
    },
    {
     "data": {
      "text/html": [
       "<img src=\"https://earthengine.googleapis.com/v1alpha/projects/earthengine-legacy/thumbnails/00cc8f5e3ad898d1493adeaec8f1c818-0c8411ce74898842fc1136e5decacf68:getPixels\"/>"
      ],
      "text/plain": [
       "<IPython.core.display.Image object>"
      ]
     },
     "execution_count": 30,
     "metadata": {},
     "output_type": "execute_result"
    }
   ],
   "source": [
    "for i in range(2000,2022,1):\n",
    "    Start_Date = str(i) + '-01-01'\n",
    "    End_Date = str(i) + '-12-31'\n",
    "\n",
    "    Dataset = ee.ImageCollection('MODIS/061/MYD13Q1').filterDate(Start_Date,End_Date).select('NDVI')\n",
    "    NDVI_Alaska = NDVI.mosaic().clip(alaska_bound)\n",
    "    #get download link\n",
    "    link = NDVI_Alaska.getDownloadURL({\n",
    "        'scale' : 110,\n",
    "        'crs' : 'EPSG:4269',\n",
    "        'fileFormat': 'GeoTIFF',\n",
    "        'region': roi,\n",
    "        'name': 'NDVI_' + str(i)     \n",
    "    })\n",
    "    print(Start_Date +\": \" + link)\n",
    "\n",
    "url = NDVI_Alaska.getThumbUrl({\n",
    "    'min': -2000, 'max': 10000 ,'region':roi,'dimensions':512,\n",
    "    'palette': ['006633', 'E5FFCC', '662A00', 'D8D8D8', 'F5F5F5']})\n",
    "Image(url=url)\n",
    "    "
   ]
  },
  {
   "cell_type": "markdown",
   "id": "943b79cc",
   "metadata": {},
   "source": [
    "## Temperature\n",
    "\n",
    "- Normally this wouldn't be downloaded from Earth Engine as there are more sufficient data sources; however for proof of concept these values were also used\n",
    "- This specific temperature dataset recorded the max temperature of each month. An average of this was then taken for each year"
   ]
  },
  {
   "cell_type": "code",
   "execution_count": 37,
   "id": "fb5ab039",
   "metadata": {},
   "outputs": [
    {
     "name": "stdout",
     "output_type": "stream",
     "text": [
      "2000-01-01: https://earthengine.googleapis.com/v1alpha/projects/earthengine-legacy/thumbnails/c1f8111f8d18e00c7a237da38822382a-a945d45de11c9a53787d71aa2163784d:getPixels\n",
      "2001-01-01: https://earthengine.googleapis.com/v1alpha/projects/earthengine-legacy/thumbnails/cb0c99a375e4a5e99e1dd2f2e91508f3-b9b2fe3d242e2e5787cf2156849cabfc:getPixels\n",
      "2002-01-01: https://earthengine.googleapis.com/v1alpha/projects/earthengine-legacy/thumbnails/82bccc88489a9490b05115037f2fcdd0-a2e7b9dab95771bcd4e7b8eba0c9c6e4:getPixels\n",
      "2003-01-01: https://earthengine.googleapis.com/v1alpha/projects/earthengine-legacy/thumbnails/5e45b75af0ef29e7d0f8811d541364c7-ae01d1e5cf34303231a7738f52ea11d4:getPixels\n",
      "2004-01-01: https://earthengine.googleapis.com/v1alpha/projects/earthengine-legacy/thumbnails/37f2fd45e9bbacccfe3609a4d2f71ef9-1d1f4a89086f7f48ab32dc28722dc5dc:getPixels\n",
      "2005-01-01: https://earthengine.googleapis.com/v1alpha/projects/earthengine-legacy/thumbnails/aa3dfc780dec8b218097c7da094e6bec-033dba25137517d6d5645012626d439b:getPixels\n",
      "2006-01-01: https://earthengine.googleapis.com/v1alpha/projects/earthengine-legacy/thumbnails/c3d21969cf58960fc3f1ec4f939bcb6d-384ac3c60ddc8e0ef39cf93c5c1d3aeb:getPixels\n",
      "2007-01-01: https://earthengine.googleapis.com/v1alpha/projects/earthengine-legacy/thumbnails/57058a81dcbc5ccaf2969ae69100501e-a1ffcd2c7c6932db2cf261cb5f4c2b34:getPixels\n",
      "2008-01-01: https://earthengine.googleapis.com/v1alpha/projects/earthengine-legacy/thumbnails/70a55501f2c076d172359d1a2a227ee7-ffbeb84947be30653e09746872dd6f17:getPixels\n",
      "2009-01-01: https://earthengine.googleapis.com/v1alpha/projects/earthengine-legacy/thumbnails/a0591184ebfcbc92f40c32d79a6eb521-8a046a81315eb61405e4a9ddceeceec9:getPixels\n",
      "2010-01-01: https://earthengine.googleapis.com/v1alpha/projects/earthengine-legacy/thumbnails/ba2472ee62082951664e0af94acc63f4-145de24ff979f076652c0324da29ab77:getPixels\n",
      "2011-01-01: https://earthengine.googleapis.com/v1alpha/projects/earthengine-legacy/thumbnails/b227a84831a8238279fc8009bf75a979-c7c2041318e2ee7062667baa4baefe23:getPixels\n",
      "2012-01-01: https://earthengine.googleapis.com/v1alpha/projects/earthengine-legacy/thumbnails/91cb42b20da097f62ca7030889965a25-e23e9f68c48189eeff86d8529f3892a2:getPixels\n",
      "2013-01-01: https://earthengine.googleapis.com/v1alpha/projects/earthengine-legacy/thumbnails/0ea2827092b9fee22112e7d874d5f11e-ae9edbd3d2d064295222141b5c537a0f:getPixels\n",
      "2014-01-01: https://earthengine.googleapis.com/v1alpha/projects/earthengine-legacy/thumbnails/1c9ed77e3bfb52bb4d09582b30f9c4f6-0f04a0b4dda3470427b074a42e09c176:getPixels\n",
      "2015-01-01: https://earthengine.googleapis.com/v1alpha/projects/earthengine-legacy/thumbnails/1a46b00326dd3f751984c9c0d8a2e264-9c2b9d444911f064c2a01e3d34954f43:getPixels\n",
      "2016-01-01: https://earthengine.googleapis.com/v1alpha/projects/earthengine-legacy/thumbnails/efa097cfce7804c7667a848d31a85bd8-7cd1eaa7c7023e79c24312a2bcaf33ed:getPixels\n",
      "2017-01-01: https://earthengine.googleapis.com/v1alpha/projects/earthengine-legacy/thumbnails/fe5c5d04d56e00b3e276d64937ad1ab7-bdabe1b7b741993398bad532ef79cdca:getPixels\n",
      "2018-01-01: https://earthengine.googleapis.com/v1alpha/projects/earthengine-legacy/thumbnails/94811e472b1da1328e54d606e52a9811-173040f3e714bf87631b0a38a63d9638:getPixels\n",
      "2019-01-01: https://earthengine.googleapis.com/v1alpha/projects/earthengine-legacy/thumbnails/0c387b42a053242af4e5403639aebdf3-a5ae23c2b3009b562cdbc177fa7f5589:getPixels\n",
      "2020-01-01: https://earthengine.googleapis.com/v1alpha/projects/earthengine-legacy/thumbnails/2c83795502bfb93cb290a1f220b3a169-c9f3a61cb5820dfe71098be64e6f39cb:getPixels\n",
      "2021-01-01: https://earthengine.googleapis.com/v1alpha/projects/earthengine-legacy/thumbnails/e0475fc78690e864c24b469b768c6a1f-88ac498cafdc9983a622ffe6a74de500:getPixels\n"
     ]
    },
    {
     "data": {
      "text/html": [
       "<img src=\"https://earthengine.googleapis.com/v1alpha/projects/earthengine-legacy/thumbnails/0c98fac4ce4a4773304de53c8bbde0b8-79650ccd03c871bdeaa20da43be981dc:getPixels\"/>"
      ],
      "text/plain": [
       "<IPython.core.display.Image object>"
      ]
     },
     "execution_count": 37,
     "metadata": {},
     "output_type": "execute_result"
    }
   ],
   "source": [
    "for i in range(2000,2022,1):\n",
    "    Start_Date = str(i) + '-01-01'\n",
    "    End_Date = str(i) + '-12-31'\n",
    "    Dataset = ee.ImageCollection('IDAHO_EPSCOR/TERRACLIMATE').filterDate(Start_Date,End_Date).select('tmmx')\n",
    "    avg_maxTemp = Dataset.mean().clip(alaska_bound)\n",
    "    link = avg_maxTemp.getDownloadURL({\n",
    "        'scale' : 180,\n",
    "        'crs' : 'EPSG:4269',\n",
    "        'fileFormat': 'GeoTIFF',\n",
    "        'region': roi,\n",
    "        'name': 'avgmaxTemp_' + str(i)     \n",
    "    })\n",
    "    print(Start_Date +\": \" + link)\n",
    "url = avg_maxTemp.getThumbUrl({\n",
    "    'min': -670, 'max': 576 ,'region':roi,'dimensions':512,\n",
    "    'palette': ['006633', 'E5FFCC', '662A00', 'D8D8D8', 'F5F5F5']})\n",
    "Image(url=url)"
   ]
  },
  {
   "cell_type": "markdown",
   "id": "ab75d93b",
   "metadata": {},
   "source": [
    "## Soil Moisture\n",
    "- average soil moisture per year"
   ]
  },
  {
   "cell_type": "code",
   "execution_count": 39,
   "id": "4b76a4d7",
   "metadata": {},
   "outputs": [
    {
     "name": "stdout",
     "output_type": "stream",
     "text": [
      "2000-01-01: https://earthengine.googleapis.com/v1alpha/projects/earthengine-legacy/thumbnails/2f7a6d0c68548dd0819ed406c6f09378-0c65a50455d6169b923c15f15dea4c98:getPixels\n",
      "2001-01-01: https://earthengine.googleapis.com/v1alpha/projects/earthengine-legacy/thumbnails/74fd1a8e6e3000e50abbcc60bb39e46e-71da6c3d2544543725ed64d5a9040ce7:getPixels\n",
      "2002-01-01: https://earthengine.googleapis.com/v1alpha/projects/earthengine-legacy/thumbnails/26933bf30f37fbeecf4f2cc4cb36b664-41548c9e302d54cb222043a98cd31f27:getPixels\n",
      "2003-01-01: https://earthengine.googleapis.com/v1alpha/projects/earthengine-legacy/thumbnails/30a99d807e9bc7f2eff96b8768ad3e06-1c0468d75913d5193ac5f7b73149f104:getPixels\n",
      "2004-01-01: https://earthengine.googleapis.com/v1alpha/projects/earthengine-legacy/thumbnails/ee729c5e5e31479a367e41e9c9909e22-7386dd99257b8614ec6786b75d540846:getPixels\n",
      "2005-01-01: https://earthengine.googleapis.com/v1alpha/projects/earthengine-legacy/thumbnails/fd6f5dbeda9e31243ad7bdb2bef3780a-43f8f2c643ad5f9154189e45ece41159:getPixels\n",
      "2006-01-01: https://earthengine.googleapis.com/v1alpha/projects/earthengine-legacy/thumbnails/f3e2e833e6b3de777f7b4282147511c4-aa0542ccf6c50b3040574baf3b92ddf3:getPixels\n",
      "2007-01-01: https://earthengine.googleapis.com/v1alpha/projects/earthengine-legacy/thumbnails/3c4de1067a6926bc2940364aac39e4d7-41dc086763c002675f38f0c107900c61:getPixels\n",
      "2008-01-01: https://earthengine.googleapis.com/v1alpha/projects/earthengine-legacy/thumbnails/bb40f664927c236364a1d8845be6a220-137b9fed33c71255ffaafadf8ca96a91:getPixels\n",
      "2009-01-01: https://earthengine.googleapis.com/v1alpha/projects/earthengine-legacy/thumbnails/74d2af619507307567a85d4d6e7fbce6-da2019c0235f123eb60d9eb4e113262f:getPixels\n",
      "2010-01-01: https://earthengine.googleapis.com/v1alpha/projects/earthengine-legacy/thumbnails/dc651b1eb3bad8a4366904a694bc3e63-6bda9a6608f4381db0240e52a026239b:getPixels\n",
      "2011-01-01: https://earthengine.googleapis.com/v1alpha/projects/earthengine-legacy/thumbnails/04c0e42f35621b1d9fe4180c6b602045-44b18812ae6c16e443e1d86c269f67e2:getPixels\n",
      "2012-01-01: https://earthengine.googleapis.com/v1alpha/projects/earthengine-legacy/thumbnails/627c271ea0240942e1bdbc24aa83c721-94cfdabe5ae3da1fcf024b6636290537:getPixels\n",
      "2013-01-01: https://earthengine.googleapis.com/v1alpha/projects/earthengine-legacy/thumbnails/e91d6174f11aa38cf8477ae189dd749b-ee12f0a029aa6b8998d20ec6995ed990:getPixels\n",
      "2014-01-01: https://earthengine.googleapis.com/v1alpha/projects/earthengine-legacy/thumbnails/b4cddef23f0f52e60e9a210d30947b02-c9d3ffbfdbe0ab1d5cb2ce631089e733:getPixels\n",
      "2015-01-01: https://earthengine.googleapis.com/v1alpha/projects/earthengine-legacy/thumbnails/67f15ff775249e95b56156e9ab1c147e-2faec81451d846fbbdaf5cbc33693b7d:getPixels\n",
      "2016-01-01: https://earthengine.googleapis.com/v1alpha/projects/earthengine-legacy/thumbnails/83bbe08dddcc30e4e54894ea30b82264-f72f0c9e0eaff4a4ec489a16b08288ef:getPixels\n",
      "2017-01-01: https://earthengine.googleapis.com/v1alpha/projects/earthengine-legacy/thumbnails/47a64cc10fd8a2c7a0b888ab6ba70574-3b54d5a307854ff7e645387b4a27d679:getPixels\n",
      "2018-01-01: https://earthengine.googleapis.com/v1alpha/projects/earthengine-legacy/thumbnails/ee6ad622b96d29d3a2e7804ba8afd74f-5f3f9624a3d307608a06bdc649535695:getPixels\n",
      "2019-01-01: https://earthengine.googleapis.com/v1alpha/projects/earthengine-legacy/thumbnails/84f7118fc9cc6846a8e027b866651325-47be815d7bce709e1cc5f5b89567f126:getPixels\n",
      "2020-01-01: https://earthengine.googleapis.com/v1alpha/projects/earthengine-legacy/thumbnails/094417f4646dad41e5a5f9444d9bc33a-5d364eddb41312312c67808ac6d1e7bc:getPixels\n",
      "2021-01-01: https://earthengine.googleapis.com/v1alpha/projects/earthengine-legacy/thumbnails/c1a16abe3677044828cf9ee4b3b0a076-16069430e99698e7262a1ab7cc8e6a39:getPixels\n"
     ]
    },
    {
     "data": {
      "text/html": [
       "<img src=\"https://earthengine.googleapis.com/v1alpha/projects/earthengine-legacy/thumbnails/64bbb6367a2c7f7bd9e3899141f55917-ce7b76c85905ff32f104e34d4245c2f3:getPixels\"/>"
      ],
      "text/plain": [
       "<IPython.core.display.Image object>"
      ]
     },
     "execution_count": 39,
     "metadata": {},
     "output_type": "execute_result"
    }
   ],
   "source": [
    "for i in range(2000,2022,1):\n",
    "    Start_Date = str(i) + '-01-01'\n",
    "    End_Date = str(i) + '-12-31'\n",
    "    Dataset = ee.ImageCollection('IDAHO_EPSCOR/TERRACLIMATE').filterDate(Start_Date,End_Date).select('soil')\n",
    "    soil = Dataset.mean().clip(alaska_bound)\n",
    "    link = soil.getDownloadURL({\n",
    "        'scale' : 180,\n",
    "        'crs' : 'EPSG:4269',\n",
    "        'fileFormat': 'GeoTIFF',\n",
    "        'region': roi,\n",
    "        'name': 'soil_' + str(i)     \n",
    "    })\n",
    "    print(Start_Date +\": \" + link)\n",
    "url = soil.getThumbUrl({\n",
    "    'min': -0, 'max': 9000 ,'region':roi,'dimensions':512,\n",
    "    'palette': ['006633', 'E5FFCC', '662A00', 'D8D8D8', 'F5F5F5']})\n",
    "Image(url=url)"
   ]
  },
  {
   "cell_type": "markdown",
   "id": "20612a23",
   "metadata": {},
   "source": [
    "## Precipitation\n",
    "- total precipitation per year"
   ]
  },
  {
   "cell_type": "code",
   "execution_count": 40,
   "id": "c60ce6ec",
   "metadata": {},
   "outputs": [
    {
     "name": "stdout",
     "output_type": "stream",
     "text": [
      "2000-01-01: https://earthengine.googleapis.com/v1alpha/projects/earthengine-legacy/thumbnails/3dadac574e78c4799310a63fb89bc0fe-945ad37331f5f8cab27d79b007c1eafa:getPixels\n",
      "2001-01-01: https://earthengine.googleapis.com/v1alpha/projects/earthengine-legacy/thumbnails/1969d27b6cf75645b2d6206f4053d662-8154f3e475f295756d2817d0b871f458:getPixels\n",
      "2002-01-01: https://earthengine.googleapis.com/v1alpha/projects/earthengine-legacy/thumbnails/ea531a843ba8d90e1a4744e9e93ef8c3-6a24d08c646c92b1982d846a53d5885d:getPixels\n",
      "2003-01-01: https://earthengine.googleapis.com/v1alpha/projects/earthengine-legacy/thumbnails/ddfed7f9252b81ef7520e3f3cf12b0bd-be48d035a82e573145992d67afe9cdf7:getPixels\n",
      "2004-01-01: https://earthengine.googleapis.com/v1alpha/projects/earthengine-legacy/thumbnails/bcf8b5578703cda3b4ed8338ddab296b-0bbae583523a1eda7ad0aa0171041f5a:getPixels\n",
      "2005-01-01: https://earthengine.googleapis.com/v1alpha/projects/earthengine-legacy/thumbnails/fb42447e2a20b25d46336f38771c2544-8edf866b8cd794a54666a38626942473:getPixels\n",
      "2006-01-01: https://earthengine.googleapis.com/v1alpha/projects/earthengine-legacy/thumbnails/b4b906845c29d6ce24823248042bdee8-3698afb15776cf5c4c6c883bfeb44667:getPixels\n",
      "2007-01-01: https://earthengine.googleapis.com/v1alpha/projects/earthengine-legacy/thumbnails/755ee3318ec4abdaa92b3505c1c4f160-46b1fe4edeab950e87972104fd8cb2f3:getPixels\n",
      "2008-01-01: https://earthengine.googleapis.com/v1alpha/projects/earthengine-legacy/thumbnails/95e88214c26de2711ba5f5a1ad5034b1-c3340572592f1566b666c59a99a48f59:getPixels\n",
      "2009-01-01: https://earthengine.googleapis.com/v1alpha/projects/earthengine-legacy/thumbnails/75316bce9b090211c06a4e873437981f-23f51b068e61c3a4d0a8171c9dde13e5:getPixels\n",
      "2010-01-01: https://earthengine.googleapis.com/v1alpha/projects/earthengine-legacy/thumbnails/bace4b669d4aaaa8f64be8457bf96067-1d0b8d85363e605045f092a573caacc8:getPixels\n",
      "2011-01-01: https://earthengine.googleapis.com/v1alpha/projects/earthengine-legacy/thumbnails/f09dda277b517531aaaf81ed0cc01a0a-5fc4ee1031a935e663f17a86f35f0e5d:getPixels\n",
      "2012-01-01: https://earthengine.googleapis.com/v1alpha/projects/earthengine-legacy/thumbnails/e15141039c688f64044ba123b2d96b77-19c5f0ed2f655db2649bef513eb4fb9a:getPixels\n",
      "2013-01-01: https://earthengine.googleapis.com/v1alpha/projects/earthengine-legacy/thumbnails/0cf4cdc0025ec326ff911fc1f3facd2e-623e5a1459eae5148ae862e2cdaa380a:getPixels\n",
      "2014-01-01: https://earthengine.googleapis.com/v1alpha/projects/earthengine-legacy/thumbnails/6ee16ef5a3725253c473bb35bdee0778-bb691b8dc83fab1a20d78891e96b7f64:getPixels\n",
      "2015-01-01: https://earthengine.googleapis.com/v1alpha/projects/earthengine-legacy/thumbnails/d088b98bd06eb375688e4fce7015fc0d-c287d84730e6731351c483f1cccdd9c1:getPixels\n",
      "2016-01-01: https://earthengine.googleapis.com/v1alpha/projects/earthengine-legacy/thumbnails/df6d2c8b705cf7d85e91a0fdc8017e21-e7264f0f245f030d27d1ae36521909f9:getPixels\n",
      "2017-01-01: https://earthengine.googleapis.com/v1alpha/projects/earthengine-legacy/thumbnails/f5d7ce091137fb9b89952ba2e429521c-4519d361693d50577fe9b6e3c33954db:getPixels\n",
      "2018-01-01: https://earthengine.googleapis.com/v1alpha/projects/earthengine-legacy/thumbnails/5b40a522ff7157d9542fbf1978f43816-f686968aeb48a6ea6e6f038d4614f20a:getPixels\n",
      "2019-01-01: https://earthengine.googleapis.com/v1alpha/projects/earthengine-legacy/thumbnails/c36aaf233f9a56447db181867b1ec88c-b67bed1cd139f41db7e524560c4788ed:getPixels\n",
      "2020-01-01: https://earthengine.googleapis.com/v1alpha/projects/earthengine-legacy/thumbnails/d0ba7cea70459892c99794649c7e9f72-699312658e2cfcc3f3d7a6ebee73f550:getPixels\n",
      "2021-01-01: https://earthengine.googleapis.com/v1alpha/projects/earthengine-legacy/thumbnails/84a6791618b81208c122e08cc0633a62-820cfa4c23ebefe1cf12328d5bbf8d4b:getPixels\n"
     ]
    },
    {
     "data": {
      "text/html": [
       "<img src=\"https://earthengine.googleapis.com/v1alpha/projects/earthengine-legacy/thumbnails/e857593d604fa120312a12bc49f117db-07041fb7304b33acc792581cca89c794:getPixels\"/>"
      ],
      "text/plain": [
       "<IPython.core.display.Image object>"
      ]
     },
     "execution_count": 40,
     "metadata": {},
     "output_type": "execute_result"
    }
   ],
   "source": [
    "for i in range(2000,2022,1):\n",
    "    Start_Date = str(i) + '-01-01'\n",
    "    End_Date = str(i) + '-12-31'\n",
    "    Dataset = ee.ImageCollection('IDAHO_EPSCOR/TERRACLIMATE').filterDate(Start_Date,End_Date).select('pr')\n",
    "    precip = Dataset.sum().clip(alaska_bound)\n",
    "    link = precip.getDownloadURL({\n",
    "        'scale' : 180,\n",
    "        'crs' : 'EPSG:4269',\n",
    "        'fileFormat': 'GeoTIFF',\n",
    "        'region': roi,\n",
    "        'name': 'precip_' + str(i)     \n",
    "    })\n",
    "    print(Start_Date +\": \" + link)\n",
    "url = precip.getThumbUrl({\n",
    "    'min': -0, 'max': 9000 ,'region':roi,'dimensions':512,\n",
    "    'palette': ['006633', 'E5FFCC', '662A00', 'D8D8D8', 'F5F5F5']})\n",
    "Image(url=url)"
   ]
  },
  {
   "cell_type": "code",
   "execution_count": null,
   "id": "76781a0a",
   "metadata": {},
   "outputs": [],
   "source": []
  }
 ],
 "metadata": {
  "kernelspec": {
   "display_name": "Python 3 (ipykernel)",
   "language": "python",
   "name": "python3"
  },
  "language_info": {
   "codemirror_mode": {
    "name": "ipython",
    "version": 3
   },
   "file_extension": ".py",
   "mimetype": "text/x-python",
   "name": "python",
   "nbconvert_exporter": "python",
   "pygments_lexer": "ipython3",
   "version": "3.9.16"
  }
 },
 "nbformat": 4,
 "nbformat_minor": 5
}
