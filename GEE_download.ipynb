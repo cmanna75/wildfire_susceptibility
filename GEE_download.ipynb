{
 "cells": [
  {
   "cell_type": "markdown",
   "id": "c237dea2",
   "metadata": {},
   "source": [
    " Import Required Libraries"
   ]
  },
  {
   "cell_type": "code",
   "execution_count": 1,
   "id": "3f3c643c",
   "metadata": {},
   "outputs": [],
   "source": [
    "import ee\n",
    "import geemap\n",
    "import pandas as pd\n",
    "from IPython.display import Image"
   ]
  },
  {
   "cell_type": "markdown",
   "id": "19603327",
   "metadata": {},
   "source": [
    "Authenticate Google Earth Engine"
   ]
  },
  {
   "cell_type": "code",
   "execution_count": 2,
   "id": "e7c74e5c",
   "metadata": {
    "scrolled": false
   },
   "outputs": [
    {
     "data": {
      "text/html": [
       "<p>To authorize access needed by Earth Engine, open the following\n",
       "        URL in a web browser and follow the instructions:</p>\n",
       "        <p><a href=https://code.earthengine.google.com/client-auth?scopes=https%3A//www.googleapis.com/auth/earthengine%20https%3A//www.googleapis.com/auth/devstorage.full_control&request_id=_Kpr8ORBkMTqxc2ht1CsWf_diJSO3JgZe-ncV7yAdWs&tc=7zcm8zIQQuZRwfuRyB5bnzSFYsbL0_4nCkgyEW1eKJc&cc=l38rjZ1zwVFYGXn_7doba1zePkv0PsoLVvzioW5tgko>https://code.earthengine.google.com/client-auth?scopes=https%3A//www.googleapis.com/auth/earthengine%20https%3A//www.googleapis.com/auth/devstorage.full_control&request_id=_Kpr8ORBkMTqxc2ht1CsWf_diJSO3JgZe-ncV7yAdWs&tc=7zcm8zIQQuZRwfuRyB5bnzSFYsbL0_4nCkgyEW1eKJc&cc=l38rjZ1zwVFYGXn_7doba1zePkv0PsoLVvzioW5tgko</a></p>\n",
       "        <p>The authorization workflow will generate a code, which you should paste in the box below.</p>\n",
       "        "
      ],
      "text/plain": [
       "<IPython.core.display.HTML object>"
      ]
     },
     "metadata": {},
     "output_type": "display_data"
    },
    {
     "name": "stdout",
     "output_type": "stream",
     "text": [
      "Enter verification code: 4/1AZEOvhUrlMwOc7sw8FL2iTJ0FRMl6wWmhP2mQTLUYPG5uyZQHAe-Ft2ypwo\n",
      "\n",
      "Successfully saved authorization token.\n"
     ]
    }
   ],
   "source": [
    "ee.Authenticate()\n",
    "ee.Initialize()"
   ]
  },
  {
   "cell_type": "markdown",
   "id": "3cc2863c",
   "metadata": {},
   "source": [
    "Import Data"
   ]
  },
  {
   "cell_type": "code",
   "execution_count": 3,
   "id": "8c955cb3",
   "metadata": {},
   "outputs": [],
   "source": [
    "#Alaska boundary\n",
    "alaska_bound = ee.FeatureCollection('TIGER/2018/States').filter(ee.Filter.eq('STUSPS','AK'))"
   ]
  },
  {
   "cell_type": "code",
   "execution_count": 4,
   "id": "a3f2f5a5",
   "metadata": {},
   "outputs": [
    {
     "data": {
      "text/html": [
       "<img src=\"https://earthengine.googleapis.com/v1alpha/projects/earthengine-legacy/thumbnails/4d74cac4d6a3f879200412b9825bbaba-9a396c93413a50e5b39b5befc4db6ebf:getPixels\"/>"
      ],
      "text/plain": [
       "<IPython.core.display.Image object>"
      ]
     },
     "execution_count": 4,
     "metadata": {},
     "output_type": "execute_result"
    }
   ],
   "source": [
    "#Import Digital Elevation Model\n",
    "Dataset = ee.Image('USGS/3DEP/10m')\n",
    "Elevation = Dataset.select('elevation')\n",
    "\n",
    "#change alaska boundary to proper coordinate system\n",
    "alaska_bound_reprojected = alaska_bound.geometry().transform('EPSG:4269')\n",
    "\n",
    "#clip elevation to just alaska\n",
    "Elevation_Alaska = Elevation.clip(alaska_bound_reprojected)\n",
    "\n",
    "url = Elevation_Alaska.getThumbUrl({\n",
    "    'min': 0, 'max': 2500 ,'dimensions':512,\n",
    "    'palette': ['006633', 'E5FFCC', '662A00', 'D8D8D8', 'F5F5F5']})\n",
    "\n",
    "# Display\n",
    "Image(url=url)\n",
    "#geemap.show_image(Elevation)"
   ]
  },
  {
   "cell_type": "code",
   "execution_count": 5,
   "id": "dcaba9d0",
   "metadata": {},
   "outputs": [
    {
     "name": "stdout",
     "output_type": "stream",
     "text": [
      "https://earthengine.googleapis.com/v1alpha/projects/earthengine-legacy/thumbnails/e5de9a9e0a033b8ac0d6ed3b9f98779b-93702bc33aab1cb15212134620884eea:getPixels\n"
     ]
    },
    {
     "data": {
      "text/html": [
       "<img src=\"https://earthengine.googleapis.com/v1alpha/projects/earthengine-legacy/thumbnails/32482a69997a07f7f727605c46ad49ae-e3c46cd7c037dadf604e4868415da62b:getPixels\"/>"
      ],
      "text/plain": [
       "<IPython.core.display.Image object>"
      ]
     },
     "execution_count": 5,
     "metadata": {},
     "output_type": "execute_result"
    }
   ],
   "source": [
    "Elevation_Alaska_reprojected = Elevation_Alaska.reproject(crs='WGS84')\n",
    "#print(Elevation_Alaska.projection().getInfo())\n",
    "#print(alaska_bound.projection().getInfo())\n",
    "#create section of Ykdelta\n",
    "lon = 62.83\n",
    "lat = -153\n",
    "poi = ee.Geometry.Point(lon,lat)\n",
    "poi_reprojected = poi.transform('EPSG:4269')\n",
    "box = [-165.3,62.2,-162.5,63.4]\n",
    "roi =  ee.Geometry.Rectangle(box)\n",
    "\n",
    "#get download link\n",
    "\n",
    "link = Elevation_Alaska.getDownloadURL({\n",
    "    'scale' : 70,\n",
    "    'crs' : 'EPSG:4269',\n",
    "    'fileFormat': 'GeoTIFF',\n",
    "    'region': roi\n",
    "})\n",
    "print(link)\n",
    "\n",
    "url = Elevation_Alaska.getThumbUrl({\n",
    "    'min': 0, 'max': 2500 ,'region':roi,'dimensions':512,\n",
    "    'palette': ['006633', 'E5FFCC', '662A00', 'D8D8D8', 'F5F5F5']})\n",
    "Image(url=url)"
   ]
  },
  {
   "cell_type": "markdown",
   "id": "85cb465d",
   "metadata": {},
   "source": [
    "Get Slope from DEM"
   ]
  },
  {
   "cell_type": "code",
   "execution_count": 14,
   "id": "074c84af",
   "metadata": {},
   "outputs": [
    {
     "data": {
      "text/html": [
       "<img src=\"https://earthengine.googleapis.com/v1alpha/projects/earthengine-legacy/thumbnails/540de3cc1b4d89ec4a3afb36e16fb39c-31a52ea4cf21111f69aa66f903e0c782:getPixels\"/>"
      ],
      "text/plain": [
       "<IPython.core.display.Image object>"
      ]
     },
     "execution_count": 14,
     "metadata": {},
     "output_type": "execute_result"
    }
   ],
   "source": [
    "Slope_Alaska = ee.Terrain.slope(Elevation_Alaska)\n",
    "\n",
    "\n",
    "url = Slope_Alaska.getThumbUrl({\n",
    "    'min': 0, 'max': 90 ,'dimensions':512,\n",
    "    'palette': ['006633', 'E5FFCC', '662A00', 'D8D8D8', 'F5F5F5']})\n",
    "\n",
    "# Display\n",
    "Image(url=url)"
   ]
  },
  {
   "cell_type": "code",
   "execution_count": 18,
   "id": "507f3e79",
   "metadata": {},
   "outputs": [
    {
     "name": "stdout",
     "output_type": "stream",
     "text": [
      "https://earthengine.googleapis.com/v1alpha/projects/earthengine-legacy/thumbnails/14cb627991942956bba18ea49ed4a0b5-9f7a42d4c6faea964291140e0e80e741:getPixels\n"
     ]
    },
    {
     "data": {
      "text/html": [
       "<img src=\"https://earthengine.googleapis.com/v1alpha/projects/earthengine-legacy/thumbnails/3cc1a859e5967b7a29ae7961d2532fd2-4b25e7418c638737b237790f5ba5f58e:getPixels\"/>"
      ],
      "text/plain": [
       "<IPython.core.display.Image object>"
      ]
     },
     "execution_count": 18,
     "metadata": {},
     "output_type": "execute_result"
    }
   ],
   "source": [
    "#get download link\n",
    "\n",
    "link = Slope_Alaska.getDownloadURL({\n",
    "    'scale' : 70,\n",
    "    'crs' : 'EPSG:4269',\n",
    "    'fileFormat': 'GeoTIFF',\n",
    "    'region': roi\n",
    "})\n",
    "print(link)\n",
    "\n",
    "url = Slope_Alaska.getThumbUrl({\n",
    "    'min': 0, 'max': 90 ,'region':roi,'dimensions':512,\n",
    "    'palette': ['006633', 'E5FFCC', '662A00', 'D8D8D8', 'F5F5F5']})\n",
    "Image(url=url)"
   ]
  },
  {
   "cell_type": "code",
   "execution_count": 19,
   "id": "8460212d",
   "metadata": {},
   "outputs": [
    {
     "data": {
      "text/html": [
       "<img src=\"https://earthengine.googleapis.com/v1alpha/projects/earthengine-legacy/thumbnails/8e06af2214a33c1abd2d9d50ca11cfbb-d5ccec14e3ffb3073e588206265c0d6f:getPixels\"/>"
      ],
      "text/plain": [
       "<IPython.core.display.Image object>"
      ]
     },
     "execution_count": 19,
     "metadata": {},
     "output_type": "execute_result"
    }
   ],
   "source": [
    "Aspect_Alaska = ee.Terrain.aspect(Elevation_Alaska)\n",
    "\n",
    "url = Aspect_Alaska.getThumbUrl({\n",
    "    'min': 0, 'max': 360 ,'dimensions':512,\n",
    "    'palette': ['006633', 'E5FFCC', '662A00', 'D8D8D8', 'F5F5F5']})\n",
    "\n",
    "# Display\n",
    "Image(url=url)"
   ]
  },
  {
   "cell_type": "code",
   "execution_count": 22,
   "id": "f0596f1d",
   "metadata": {},
   "outputs": [
    {
     "name": "stdout",
     "output_type": "stream",
     "text": [
      "https://earthengine.googleapis.com/v1alpha/projects/earthengine-legacy/thumbnails/11fafb49363436a5eca18b1250825b2a-33cd061c673482b23183e1fb9f224f01:getPixels\n"
     ]
    },
    {
     "data": {
      "text/html": [
       "<img src=\"https://earthengine.googleapis.com/v1alpha/projects/earthengine-legacy/thumbnails/2b10e4a0862ba6c97f71261db752979a-0e433e50ce0370a951285a9da6e9296b:getPixels\"/>"
      ],
      "text/plain": [
       "<IPython.core.display.Image object>"
      ]
     },
     "execution_count": 22,
     "metadata": {},
     "output_type": "execute_result"
    }
   ],
   "source": [
    "#get download link\n",
    "\n",
    "link = Aspect_Alaska.getDownloadURL({\n",
    "    'scale' : 70,\n",
    "    'crs' : 'EPSG:4269',\n",
    "    'fileFormat': 'GeoTIFF',\n",
    "    'region': roi\n",
    "})\n",
    "print(link)\n",
    "\n",
    "url = Aspect_Alaska.getThumbUrl({\n",
    "    'min': 0, 'max': 360 ,'region':roi,'dimensions':512,\n",
    "    'palette': ['006633', 'E5FFCC', '662A00', 'D8D8D8', 'F5F5F5']})\n",
    "Image(url=url)"
   ]
  },
  {
   "cell_type": "code",
   "execution_count": 84,
   "id": "b7a49911",
   "metadata": {
    "scrolled": true
   },
   "outputs": [],
   "source": [
    "#NDVI\n",
    "Dataset = ee.ImageCollection('MODIS/061/MYD13Q1').filterDate('2018-01-01','2018-05-01')\n",
    "\n",
    "# Define the bounding box for Alaska\n",
    "earth_bbox = [-179,-89,179,89]\n",
    "earth_geometry = ee.Geometry.Rectangle(earth_bbox)\n",
    "\n",
    "alaska_bound_reprojected = alaska_bound.geometry().transform('SR-ORG:6974')\n",
    "\n",
    "NDVI = Dataset.select('NDVI')\n",
    "#NDVI_Alaska = NDVI.clip('alaska_bound_reprojected')\n",
    "NDVI_Alaska = NDVI.max()#.clip(alaska_bound_reprojected)\n",
    "url = NDVI_Alaska.getThumbUrl({\n",
    "   'min': 0, 'max': 8000 ,'region': earth_geometry, 'dimensions':1024,\n",
    "   'palette': ['006633', 'E5FFCC', '662A00', 'D8D8D8', 'F5F5F5']})\n",
    "#Image(url=url)"
   ]
  },
  {
   "cell_type": "code",
   "execution_count": 87,
   "id": "fb5ab039",
   "metadata": {},
   "outputs": [
    {
     "data": {
      "text/html": [
       "<img src=\"https://earthengine.googleapis.com/v1alpha/projects/earthengine-legacy/thumbnails/e95e26d144a54d3a4e011aa53d724b1b-92a3eaea4ad4c8f7f4d0049ceebda44b:getPixels\"/>"
      ],
      "text/plain": [
       "<IPython.core.display.Image object>"
      ]
     },
     "execution_count": 87,
     "metadata": {},
     "output_type": "execute_result"
    }
   ],
   "source": [
    "Dataset = ee.ImageCollection('NOAA/CDR/AVHRR/NDVI/V5')\n",
    "NDVI = Dataset.select('NDVI')\n",
    "NDVI_test = NDVI.first()\n",
    "url = NDVI_test.getThumbUrl({\n",
    "   'min': 0, 'max': 8000, 'dimensions':1024,\n",
    "   'palette': ['006633', 'E5FFCC', '662A00', 'D8D8D8', 'F5F5F5']})\n",
    "Image(url=url)"
   ]
  },
  {
   "cell_type": "code",
   "execution_count": null,
   "id": "d2306463",
   "metadata": {},
   "outputs": [],
   "source": []
  }
 ],
 "metadata": {
  "kernelspec": {
   "display_name": "Python 3 (ipykernel)",
   "language": "python",
   "name": "python3"
  },
  "language_info": {
   "codemirror_mode": {
    "name": "ipython",
    "version": 3
   },
   "file_extension": ".py",
   "mimetype": "text/x-python",
   "name": "python",
   "nbconvert_exporter": "python",
   "pygments_lexer": "ipython3",
   "version": "3.9.16"
  }
 },
 "nbformat": 4,
 "nbformat_minor": 5
}
