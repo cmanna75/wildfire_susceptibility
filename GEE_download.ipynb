{
 "cells": [
  {
   "cell_type": "markdown",
   "id": "325747b0",
   "metadata": {},
   "source": [
    "# Google Earth Engine Download Example\n",
    "\n",
    "This notebook demonstrates how you can view, clip and download GIS Images from the Earth Engine Dataset\n",
    "\n",
    "\n",
    "In this example a Region from the YKDelta was studied and multiple download links were created to download GeoTiff files for this specific region\n",
    "For future projects I suggest that the Export.image.toDrive is utilized to store these images on the cloud to prevent a large data requirement on the computer\n",
    "In addition, the MODIS dataset should be used as the bands in this data set will be essential for most of the Hazard predictions"
   ]
  },
  {
   "cell_type": "markdown",
   "id": "c237dea2",
   "metadata": {},
   "source": [
    " Import Required Libraries"
   ]
  },
  {
   "cell_type": "code",
   "execution_count": 1,
   "id": "3f3c643c",
   "metadata": {},
   "outputs": [],
   "source": [
    "import ee\n",
    "import geemap\n",
    "import pandas as pd\n",
    "from IPython.display import Image"
   ]
  },
  {
   "cell_type": "markdown",
   "id": "19603327",
   "metadata": {},
   "source": [
    "Authenticate Google Earth Engine"
   ]
  },
  {
   "cell_type": "code",
   "execution_count": 2,
   "id": "e7c74e5c",
   "metadata": {
    "scrolled": false
   },
   "outputs": [
    {
     "data": {
      "text/html": [
       "<p>To authorize access needed by Earth Engine, open the following\n",
       "        URL in a web browser and follow the instructions:</p>\n",
       "        <p><a href=https://code.earthengine.google.com/client-auth?scopes=https%3A//www.googleapis.com/auth/earthengine%20https%3A//www.googleapis.com/auth/devstorage.full_control&request_id=pv_7x_dXJV6kEQq9dDfc3ntOdZh744sv1Ii9TCTW7q0&tc=AR4SSp7NYpwlg7BAeLFfuRFr0-zcCIUdlRo5eEUGgc0&cc=XmtZfIdUIVZHseyIakaOOyIc_PPEI64cuzgAhA5wO-k>https://code.earthengine.google.com/client-auth?scopes=https%3A//www.googleapis.com/auth/earthengine%20https%3A//www.googleapis.com/auth/devstorage.full_control&request_id=pv_7x_dXJV6kEQq9dDfc3ntOdZh744sv1Ii9TCTW7q0&tc=AR4SSp7NYpwlg7BAeLFfuRFr0-zcCIUdlRo5eEUGgc0&cc=XmtZfIdUIVZHseyIakaOOyIc_PPEI64cuzgAhA5wO-k</a></p>\n",
       "        <p>The authorization workflow will generate a code, which you should paste in the box below.</p>\n",
       "        "
      ],
      "text/plain": [
       "<IPython.core.display.HTML object>"
      ]
     },
     "metadata": {},
     "output_type": "display_data"
    },
    {
     "name": "stdout",
     "output_type": "stream",
     "text": [
      "Enter verification code: 4/1Adeu5BWRpjK9m7iuBosS3xoqBxVTF8tnDGzYhL2u90CfF-NtT-cNG1oo_Hk\n",
      "\n",
      "Successfully saved authorization token.\n"
     ]
    }
   ],
   "source": [
    "ee.Authenticate()\n",
    "ee.Initialize()"
   ]
  },
  {
   "cell_type": "markdown",
   "id": "3cc2863c",
   "metadata": {},
   "source": [
    "# Importing Data\n",
    "\n",
    "- Elevation, Slope, Aspect, NDVI, Temperature, Soil Moisture and Precipitation download links were produced\n",
    "- For NDVI, Temperature, and Soil Moisture a yearly average TIFF was downloaded for each year from 2000-2021."
   ]
  },
  {
   "cell_type": "markdown",
   "id": "15c09230",
   "metadata": {},
   "source": [
    "## Elevation"
   ]
  },
  {
   "cell_type": "code",
   "execution_count": 3,
   "id": "8c955cb3",
   "metadata": {},
   "outputs": [],
   "source": [
    "#Alaska boundary\n",
    "alaska_bound = ee.FeatureCollection('TIGER/2018/States').filter(ee.Filter.eq('STUSPS','AK'))\n",
    "\n",
    "#create section of Ykdelta\n",
    "lon = 62.83\n",
    "lat = -153\n",
    "poi = ee.Geometry.Point(lon,lat)\n",
    "poi_reprojected = poi.transform('EPSG:4269')\n",
    "box = [-165.5,61,-161,64]\n",
    "roi =  ee.Geometry.Rectangle(box)"
   ]
  },
  {
   "cell_type": "code",
   "execution_count": 4,
   "id": "a3f2f5a5",
   "metadata": {},
   "outputs": [
    {
     "data": {
      "text/html": [
       "<img src=\"https://earthengine.googleapis.com/v1/projects/earthengine-legacy/thumbnails/4d74cac4d6a3f879200412b9825bbaba-e82fa8a1d79d7c8d2d2d5176ab68ee0b:getPixels\"/>"
      ],
      "text/plain": [
       "<IPython.core.display.Image object>"
      ]
     },
     "execution_count": 4,
     "metadata": {},
     "output_type": "execute_result"
    }
   ],
   "source": [
    "#Import Digital Elevation Model\n",
    "Dataset = ee.Image('USGS/3DEP/10m')\n",
    "Elevation = Dataset.select('elevation')\n",
    "\n",
    "#change alaska boundary to proper coordinate system\n",
    "alaska_bound_reprojected = alaska_bound.geometry().transform('EPSG:4269')\n",
    "\n",
    "#clip elevation to just alaska\n",
    "Elevation_Alaska = Elevation.clip(alaska_bound_reprojected)\n",
    "\n",
    "url = Elevation_Alaska.getThumbUrl({\n",
    "    'min': 0, 'max': 2500 ,'dimensions':512,\n",
    "    'palette': ['006633', 'E5FFCC', '662A00', 'D8D8D8', 'F5F5F5']})\n",
    "\n",
    "# Display\n",
    "Image(url=url)"
   ]
  },
  {
   "cell_type": "code",
   "execution_count": 16,
   "id": "dcaba9d0",
   "metadata": {},
   "outputs": [
    {
     "name": "stdout",
     "output_type": "stream",
     "text": [
      "https://earthengine.googleapis.com/v1/projects/earthengine-legacy/thumbnails/26344f6ba50b89c7da4857d046edb07a-c5f1dec535492e023f9a6afed02d1688:getPixels\n"
     ]
    },
    {
     "data": {
      "text/html": [
       "<img src=\"https://earthengine.googleapis.com/v1/projects/earthengine-legacy/thumbnails/8a0ee02c92275f5df24bdeb8058236a6-0b423793253d3d95610e2017465354a8:getPixels\"/>"
      ],
      "text/plain": [
       "<IPython.core.display.Image object>"
      ]
     },
     "execution_count": 16,
     "metadata": {},
     "output_type": "execute_result"
    }
   ],
   "source": [
    "Elevation_Alaska_reprojected = Elevation_Alaska.reproject(crs='WGS84')\n",
    "\n",
    "#get download link\n",
    "link = Elevation_Alaska.getDownloadURL({\n",
    "    'scale' : 130,\n",
    "    'crs' : 'EPSG:4269',\n",
    "    'fileFormat': 'GeoTIFF',\n",
    "    'region': roi,\n",
    "    'name': 'elevation',\n",
    "    'filePerBand': False\n",
    "})\n",
    "print(link)\n",
    "\n",
    "url = Elevation_Alaska.getThumbUrl({\n",
    "    'min': 0, 'max': 2500 ,'region':roi,'dimensions':512,\n",
    "    'palette': ['006633', 'E5FFCC', '662A00', 'D8D8D8', 'F5F5F5']})\n",
    "Image(url=url)"
   ]
  },
  {
   "cell_type": "markdown",
   "id": "8b7811f7",
   "metadata": {},
   "source": [
    "## Slope\n",
    "\n",
    "- Slope is extracted from the previous imported Digital Elevation Module"
   ]
  },
  {
   "cell_type": "code",
   "execution_count": 6,
   "id": "49023df2",
   "metadata": {},
   "outputs": [
    {
     "data": {
      "text/html": [
       "<img src=\"https://earthengine.googleapis.com/v1/projects/earthengine-legacy/thumbnails/540de3cc1b4d89ec4a3afb36e16fb39c-11983696a61597702b9c8ac0434f62b0:getPixels\"/>"
      ],
      "text/plain": [
       "<IPython.core.display.Image object>"
      ]
     },
     "execution_count": 6,
     "metadata": {},
     "output_type": "execute_result"
    }
   ],
   "source": [
    "Slope_Alaska = ee.Terrain.slope(Elevation_Alaska)\n",
    "\n",
    "\n",
    "url = Slope_Alaska.getThumbUrl({\n",
    "    'min': 0, 'max': 90 ,'dimensions':512,\n",
    "    'palette': ['006633', 'E5FFCC', '662A00', 'D8D8D8', 'F5F5F5']})\n",
    "\n",
    "# Display\n",
    "Image(url=url)"
   ]
  },
  {
   "cell_type": "code",
   "execution_count": 17,
   "id": "2ade3d21",
   "metadata": {},
   "outputs": [
    {
     "name": "stdout",
     "output_type": "stream",
     "text": [
      "https://earthengine.googleapis.com/v1/projects/earthengine-legacy/thumbnails/a381fc1d3f10ae0d675fe78b78d0d293-621254dcf92f535c2f719be780e916aa:getPixels\n"
     ]
    },
    {
     "data": {
      "text/html": [
       "<img src=\"https://earthengine.googleapis.com/v1/projects/earthengine-legacy/thumbnails/a546d1b74b70c188aafaf855db4e4f14-62ab76e02860242827399085a800bae3:getPixels\"/>"
      ],
      "text/plain": [
       "<IPython.core.display.Image object>"
      ]
     },
     "execution_count": 17,
     "metadata": {},
     "output_type": "execute_result"
    }
   ],
   "source": [
    "#get download link\n",
    "\n",
    "link = Slope_Alaska.getDownloadURL({\n",
    "    'scale' : 130,\n",
    "    'crs' : 'EPSG:4269',\n",
    "    'fileFormat': 'GeoTIFF',\n",
    "    'region': roi,\n",
    "    'name': 'slope',\n",
    "    'filePerBand': False\n",
    "})\n",
    "print(link)\n",
    "\n",
    "url = Slope_Alaska.getThumbUrl({\n",
    "    'min': 0, 'max': 90 ,'region':roi,'dimensions':512,\n",
    "    'palette': ['006633', 'E5FFCC', '662A00', 'D8D8D8', 'F5F5F5']})\n",
    "Image(url=url)"
   ]
  },
  {
   "cell_type": "markdown",
   "id": "62faa300",
   "metadata": {},
   "source": [
    "## Aspect\n",
    "- Aspect is also extracted from the DEM"
   ]
  },
  {
   "cell_type": "code",
   "execution_count": 18,
   "id": "f37de923",
   "metadata": {},
   "outputs": [
    {
     "data": {
      "text/html": [
       "<img src=\"https://earthengine.googleapis.com/v1/projects/earthengine-legacy/thumbnails/8e06af2214a33c1abd2d9d50ca11cfbb-dfcb081df9b8abf0985c9b2ac607c387:getPixels\"/>"
      ],
      "text/plain": [
       "<IPython.core.display.Image object>"
      ]
     },
     "execution_count": 18,
     "metadata": {},
     "output_type": "execute_result"
    }
   ],
   "source": [
    "Aspect_Alaska = ee.Terrain.aspect(Elevation_Alaska)\n",
    "\n",
    "url = Aspect_Alaska.getThumbUrl({\n",
    "    'min': 0, 'max': 360 ,'dimensions':512,\n",
    "    'palette': ['006633', 'E5FFCC', '662A00', 'D8D8D8', 'F5F5F5']})\n",
    "\n",
    "# Display\n",
    "Image(url=url)"
   ]
  },
  {
   "cell_type": "code",
   "execution_count": 19,
   "id": "da4ec5fd",
   "metadata": {
    "scrolled": true
   },
   "outputs": [
    {
     "name": "stdout",
     "output_type": "stream",
     "text": [
      "https://earthengine.googleapis.com/v1/projects/earthengine-legacy/thumbnails/c0a2d60bb2f5aee06dac0c1fd4bcff08-b970f4dd16237f8d9b4267e3ec4d7ae9:getPixels\n"
     ]
    },
    {
     "data": {
      "text/html": [
       "<img src=\"https://earthengine.googleapis.com/v1/projects/earthengine-legacy/thumbnails/f7ceaca4cc835f0dfb1b369b4465e767-440bbf156892aebd7cdd27a6654570ca:getPixels\"/>"
      ],
      "text/plain": [
       "<IPython.core.display.Image object>"
      ]
     },
     "execution_count": 19,
     "metadata": {},
     "output_type": "execute_result"
    }
   ],
   "source": [
    "#get download link\n",
    "\n",
    "link = Aspect_Alaska.getDownloadURL({\n",
    "    'scale' : 130,\n",
    "    'crs' : 'EPSG:4269',\n",
    "    'fileFormat': 'GeoTIFF',\n",
    "    'region': roi,\n",
    "    'name': 'aspect',\n",
    "    'filePerBand': False\n",
    "})\n",
    "print(link)\n",
    "\n",
    "url = Aspect_Alaska.getThumbUrl({\n",
    "    'min': 0, 'max': 360 ,'region':roi,'dimensions':512,\n",
    "    'palette': ['006633', 'E5FFCC', '662A00', 'D8D8D8', 'F5F5F5']})\n",
    "Image(url=url)"
   ]
  },
  {
   "cell_type": "markdown",
   "id": "30767777",
   "metadata": {},
   "source": [
    "## NDVI"
   ]
  },
  {
   "cell_type": "code",
   "execution_count": 10,
   "id": "b7a49911",
   "metadata": {
    "scrolled": true
   },
   "outputs": [
    {
     "data": {
      "text/html": [
       "<img src=\"https://earthengine.googleapis.com/v1/projects/earthengine-legacy/thumbnails/3fca0f5d00b622df5c73c282e9a18583-0e4090efade0225fd39a36515b67a908:getPixels\"/>"
      ],
      "text/plain": [
       "<IPython.core.display.Image object>"
      ]
     },
     "execution_count": 10,
     "metadata": {},
     "output_type": "execute_result"
    }
   ],
   "source": [
    "#NDVI\n",
    "Dataset = ee.ImageCollection('MODIS/061/MYD13Q1').filterDate('2018-01-01','2018-02-01')\n",
    "\n",
    "NDVI = Dataset.select('NDVI')\n",
    "#NDVI_Alaska = NDVI.clip('alaska_bound_reprojected')\n",
    "NDVI_Alaska = NDVI.mosaic().clip(alaska_bound)\n",
    "url = NDVI_Alaska.getThumbUrl({\n",
    "   'min': -2000, 'max': 10000 ,'region':alaska_bound.geometry(), 'dimensions':2048,\n",
    "   'palette': ['006633', 'E5FFCC', '662A00', 'D8D8D8', 'F5F5F5']})\n",
    "Image(url=url)"
   ]
  },
  {
   "cell_type": "code",
   "execution_count": 20,
   "id": "9820dcad",
   "metadata": {
    "scrolled": false
   },
   "outputs": [
    {
     "name": "stdout",
     "output_type": "stream",
     "text": [
      "2000-01-01: https://earthengine.googleapis.com/v1/projects/earthengine-legacy/thumbnails/cc25e46d53c7f40934e5d1449f980352-86d60b9a1beffe3b23bc47d4a0c64296:getPixels\n",
      "2001-01-01: https://earthengine.googleapis.com/v1/projects/earthengine-legacy/thumbnails/ef0b328dcab74ce38812b2cc2f90f94d-9a4292db6e4d32ce79cd176385008767:getPixels\n",
      "2002-01-01: https://earthengine.googleapis.com/v1/projects/earthengine-legacy/thumbnails/5057b3fed59cc5d2e66a7812771a8c18-911a05f0a61d9f851c9f1080c1e8dd79:getPixels\n",
      "2003-01-01: https://earthengine.googleapis.com/v1/projects/earthengine-legacy/thumbnails/a90232f9819c54fd0f1621a83165889e-2c5be568ed25f6a00fd3c1373e0ab41f:getPixels\n",
      "2004-01-01: https://earthengine.googleapis.com/v1/projects/earthengine-legacy/thumbnails/2a41a4da5bbf19e95498e1015d360f9a-41e159bd05bef5f7c2a827814565fce2:getPixels\n",
      "2005-01-01: https://earthengine.googleapis.com/v1/projects/earthengine-legacy/thumbnails/ef01bb31e987c9e1969257b31829bbfe-aad742ed99da4af6d21177e27d0f9560:getPixels\n",
      "2006-01-01: https://earthengine.googleapis.com/v1/projects/earthengine-legacy/thumbnails/5e9e309bb22017ad8841ff2b87879d83-3ebe1430eb97f62c50171c293b578a06:getPixels\n",
      "2007-01-01: https://earthengine.googleapis.com/v1/projects/earthengine-legacy/thumbnails/06c5bebb1c0393857a1a44e30415b6e4-2d2e917b9af16312cbdf67afd0e05a66:getPixels\n",
      "2008-01-01: https://earthengine.googleapis.com/v1/projects/earthengine-legacy/thumbnails/6e69dd75f8b2a0f4a3eff8f2575e38db-8674c0a9dfcd274819c2226d4be7c545:getPixels\n",
      "2009-01-01: https://earthengine.googleapis.com/v1/projects/earthengine-legacy/thumbnails/9d2c4f0d4e30384ab366f5ca48a88319-ac91d6649c3216e82ec9d966a66506c1:getPixels\n",
      "2010-01-01: https://earthengine.googleapis.com/v1/projects/earthengine-legacy/thumbnails/295540caa8d65bb6214a3497fb5754bd-34b54505d4a272352df121ae489e5873:getPixels\n",
      "2011-01-01: https://earthengine.googleapis.com/v1/projects/earthengine-legacy/thumbnails/1967bed8a41d31611b722b2115633db3-f375fe7f30fcd8a2db44072fdd076142:getPixels\n",
      "2012-01-01: https://earthengine.googleapis.com/v1/projects/earthengine-legacy/thumbnails/2b54b1e7ff4edcdadecba7de730d1287-5de6979182aab702c797050b98c57e32:getPixels\n",
      "2013-01-01: https://earthengine.googleapis.com/v1/projects/earthengine-legacy/thumbnails/57f9ca99f9ac90197a4d5dc020140fec-92a3357a5e07579d235f6305cc4fa270:getPixels\n",
      "2014-01-01: https://earthengine.googleapis.com/v1/projects/earthengine-legacy/thumbnails/3897cbcc7afdd30ccc85779169611da1-bc19c7e4008893c3658d76c16fb5f269:getPixels\n",
      "2015-01-01: https://earthengine.googleapis.com/v1/projects/earthengine-legacy/thumbnails/726d07ddabbb90a9469cebe901e3e76b-e45e46a3a3525d698462e9e5ec3d6af1:getPixels\n",
      "2016-01-01: https://earthengine.googleapis.com/v1/projects/earthengine-legacy/thumbnails/7a9130770909b9a48d631cba558947d3-1c0b46ec7d819a8f707bef4f34f1c8b0:getPixels\n",
      "2017-01-01: https://earthengine.googleapis.com/v1/projects/earthengine-legacy/thumbnails/53799049c92550582ab681b99c27db07-eb3215f83216e6f61091d3a01f68399e:getPixels\n",
      "2018-01-01: https://earthengine.googleapis.com/v1/projects/earthengine-legacy/thumbnails/e7b924a97d3616b0c429eaa3743ecb4e-26bad4ebfcfa37bf09e7631b130cddbe:getPixels\n",
      "2019-01-01: https://earthengine.googleapis.com/v1/projects/earthengine-legacy/thumbnails/770968e59eb44c4b499da94ef50d451f-43c7469ac8ddb5aa700230fcbff8dadc:getPixels\n",
      "2020-01-01: https://earthengine.googleapis.com/v1/projects/earthengine-legacy/thumbnails/cb138ac574b6788c3e3c0901410c2770-6403b764b7e0e7ae562a828c7201d949:getPixels\n",
      "2021-01-01: https://earthengine.googleapis.com/v1/projects/earthengine-legacy/thumbnails/bb8e12e94cf5143bc52a305bf8ca1d63-e1bedc081b6e7d82c00e5e9e80c445c7:getPixels\n"
     ]
    },
    {
     "data": {
      "text/html": [
       "<img src=\"https://earthengine.googleapis.com/v1/projects/earthengine-legacy/thumbnails/00cc8f5e3ad898d1493adeaec8f1c818-cc44f3a3891ceced8fafcd6299983580:getPixels\"/>"
      ],
      "text/plain": [
       "<IPython.core.display.Image object>"
      ]
     },
     "execution_count": 20,
     "metadata": {},
     "output_type": "execute_result"
    }
   ],
   "source": [
    "for i in range(2000,2022,1):\n",
    "    Start_Date = str(i) + '-01-01'\n",
    "    End_Date = str(i) + '-12-31'\n",
    "\n",
    "    Dataset = ee.ImageCollection('MODIS/061/MYD13Q1').filterDate(Start_Date,End_Date).select('NDVI')\n",
    "    NDVI_Alaska = NDVI.mosaic().clip(alaska_bound)\n",
    "    #get download link\n",
    "    link = NDVI_Alaska.getDownloadURL({\n",
    "        'scale' : 110,\n",
    "        'crs' : 'EPSG:4269',\n",
    "        'fileFormat': 'GeoTIFF',\n",
    "        'region': roi,\n",
    "        'name': 'NDVI_' + str(i),\n",
    "        'filePerBand': False    \n",
    "    })\n",
    "    print(Start_Date +\": \" + link)\n",
    "\n",
    "url = NDVI_Alaska.getThumbUrl({\n",
    "    'min': -2000, 'max': 10000 ,'region':roi,'dimensions':512,\n",
    "    'palette': ['006633', 'E5FFCC', '662A00', 'D8D8D8', 'F5F5F5']})\n",
    "Image(url=url)\n",
    "    "
   ]
  },
  {
   "cell_type": "markdown",
   "id": "943b79cc",
   "metadata": {},
   "source": [
    "## Temperature\n",
    "\n",
    "- Normally this wouldn't be downloaded from Earth Engine as there are more sufficient data sources; however for proof of concept these values were also used\n",
    "- This specific temperature dataset recorded the max temperature of each month. An average of this was then taken for each year"
   ]
  },
  {
   "cell_type": "code",
   "execution_count": 21,
   "id": "fb5ab039",
   "metadata": {},
   "outputs": [
    {
     "name": "stdout",
     "output_type": "stream",
     "text": [
      "2000-01-01: https://earthengine.googleapis.com/v1/projects/earthengine-legacy/thumbnails/1c96c42267306cc61422ea7edef9e979-0ce1e0d20745b83e4d960db02542cd41:getPixels\n",
      "2001-01-01: https://earthengine.googleapis.com/v1/projects/earthengine-legacy/thumbnails/ba2c7820398ec355260c2b638eb42320-1849fc75157bf17f8fcefce251bdc785:getPixels\n",
      "2002-01-01: https://earthengine.googleapis.com/v1/projects/earthengine-legacy/thumbnails/0d1cf2c3639823804cdb07e096a05eaf-648d5d105e180d32b6af43f3c915f498:getPixels\n",
      "2003-01-01: https://earthengine.googleapis.com/v1/projects/earthengine-legacy/thumbnails/13f75b4b1c274ebd596e7c0384d4aef5-04b2c40bf565c0ac6b6efa1f5a4c8a7d:getPixels\n",
      "2004-01-01: https://earthengine.googleapis.com/v1/projects/earthengine-legacy/thumbnails/c1087af92dda0cfab572499438dc41e8-af118a6841cb8a59ee1bc83f3f447856:getPixels\n",
      "2005-01-01: https://earthengine.googleapis.com/v1/projects/earthengine-legacy/thumbnails/ee14834578427803ea0344cbab97ae1a-cdc8f3cab7cf0ebaf9c46c471198db96:getPixels\n",
      "2006-01-01: https://earthengine.googleapis.com/v1/projects/earthengine-legacy/thumbnails/fbf37542db7549ca9f8be5e7860a028a-895e303b0ffd0583c6825eb555d5b0dd:getPixels\n",
      "2007-01-01: https://earthengine.googleapis.com/v1/projects/earthengine-legacy/thumbnails/54fa48b0cc3a695a44e871c0a2a573a9-650b8157ac35624f3d5692a545330f0a:getPixels\n",
      "2008-01-01: https://earthengine.googleapis.com/v1/projects/earthengine-legacy/thumbnails/5fe0cd6cdfb636d626b580235e691b02-a175d622974c9044cd819dad36286429:getPixels\n",
      "2009-01-01: https://earthengine.googleapis.com/v1/projects/earthengine-legacy/thumbnails/71fffd1cb161fe7f07940e18419dd2d4-831ab1095521df98a6469909cd7875f9:getPixels\n",
      "2010-01-01: https://earthengine.googleapis.com/v1/projects/earthengine-legacy/thumbnails/07fe10d471dffa04b93653365d32032a-c994943e95762af4d64b82bbeb8af67a:getPixels\n",
      "2011-01-01: https://earthengine.googleapis.com/v1/projects/earthengine-legacy/thumbnails/41a6989ca45b1bc1f2e94fdb166b1981-97bebe04da160eb929c9d05861de416b:getPixels\n",
      "2012-01-01: https://earthengine.googleapis.com/v1/projects/earthengine-legacy/thumbnails/0f3b75134bd35ae402830211c260a69f-a7e437d4c2ff61b0c3e415a2aad092d0:getPixels\n",
      "2013-01-01: https://earthengine.googleapis.com/v1/projects/earthengine-legacy/thumbnails/cc95a957ac615fe0d6d5295110817595-425324751a6d465b5b71146261d9218c:getPixels\n",
      "2014-01-01: https://earthengine.googleapis.com/v1/projects/earthengine-legacy/thumbnails/ce84c0e843774bc0ee78a9e7eb024349-5fb548efdfbbb01c73938e5294e54c51:getPixels\n",
      "2015-01-01: https://earthengine.googleapis.com/v1/projects/earthengine-legacy/thumbnails/276c943b459ece91a193ebc11405716b-23722f68d5120a9a9279dcd1606af4a9:getPixels\n",
      "2016-01-01: https://earthengine.googleapis.com/v1/projects/earthengine-legacy/thumbnails/a2278906eed0cb2d4e52f46d32c5813c-998ee8076984c4006e3b911c031d9d72:getPixels\n",
      "2017-01-01: https://earthengine.googleapis.com/v1/projects/earthengine-legacy/thumbnails/8d1d8bb421b753db9362b97137ed7bbf-40af3c5817f3fad00999ab6291e11a0b:getPixels\n",
      "2018-01-01: https://earthengine.googleapis.com/v1/projects/earthengine-legacy/thumbnails/905c8aaed3a4860bd89d58c90865ed32-e0b88303b3a1a3e239092365521defcc:getPixels\n",
      "2019-01-01: https://earthengine.googleapis.com/v1/projects/earthengine-legacy/thumbnails/a2d2f6a878578697b1fda6df4a0ff7a6-dd1fbf8375d32173fe2eda106eb04f8f:getPixels\n",
      "2020-01-01: https://earthengine.googleapis.com/v1/projects/earthengine-legacy/thumbnails/e5b0613a1d773bc5a79a2b5849b7bf18-ef14f43675d856640f8cedc95b362588:getPixels\n",
      "2021-01-01: https://earthengine.googleapis.com/v1/projects/earthengine-legacy/thumbnails/065308033c92df20cff1566acbea3922-f483c69f7212698978fd1c0df45cd89b:getPixels\n"
     ]
    },
    {
     "data": {
      "text/html": [
       "<img src=\"https://earthengine.googleapis.com/v1/projects/earthengine-legacy/thumbnails/ea15332cfc28edff84278fa3641dfee9-8b53780f118e1a9d2a77f4b0e0d21273:getPixels\"/>"
      ],
      "text/plain": [
       "<IPython.core.display.Image object>"
      ]
     },
     "execution_count": 21,
     "metadata": {},
     "output_type": "execute_result"
    }
   ],
   "source": [
    "for i in range(2000,2022,1):\n",
    "    Start_Date = str(i) + '-01-01'\n",
    "    End_Date = str(i) + '-12-31'\n",
    "    Dataset = ee.ImageCollection('IDAHO_EPSCOR/TERRACLIMATE').filterDate(Start_Date,End_Date).select('tmmx')\n",
    "    avg_maxTemp = Dataset.mean().clip(alaska_bound)\n",
    "    link = avg_maxTemp.getDownloadURL({\n",
    "        'scale' : 180,\n",
    "        'crs' : 'EPSG:4269',\n",
    "        'fileFormat': 'GeoTIFF',\n",
    "        'region': roi,\n",
    "        'name': 'avgmaxTemp_' + str(i),\n",
    "        'filePerBand': False     \n",
    "    })\n",
    "    print(Start_Date +\": \" + link)\n",
    "url = avg_maxTemp.getThumbUrl({\n",
    "    'min': -670, 'max': 576 ,'region':roi,'dimensions':512,\n",
    "    'palette': ['006633', 'E5FFCC', '662A00', 'D8D8D8', 'F5F5F5']})\n",
    "Image(url=url)"
   ]
  },
  {
   "cell_type": "markdown",
   "id": "ab75d93b",
   "metadata": {},
   "source": [
    "## Soil Moisture\n",
    "- average soil moisture per year"
   ]
  },
  {
   "cell_type": "code",
   "execution_count": 22,
   "id": "4b76a4d7",
   "metadata": {
    "scrolled": true
   },
   "outputs": [
    {
     "name": "stdout",
     "output_type": "stream",
     "text": [
      "2000-01-01: https://earthengine.googleapis.com/v1/projects/earthengine-legacy/thumbnails/d91c6a1249d7faf06e6c5ae32b015967-b68cc41da7ab83ca5b0218e0edad8815:getPixels\n",
      "2001-01-01: https://earthengine.googleapis.com/v1/projects/earthengine-legacy/thumbnails/5bda046ebce31342cb508289af2091f1-fbb3763c5d52cbb3537f52b18614ba77:getPixels\n",
      "2002-01-01: https://earthengine.googleapis.com/v1/projects/earthengine-legacy/thumbnails/d7d2a93575edce91790b9964a91f3e57-57a191886428ce1972a42872ea208a52:getPixels\n",
      "2003-01-01: https://earthengine.googleapis.com/v1/projects/earthengine-legacy/thumbnails/07186026456e43d2ea1cc5a59f65a5c7-ecf698595b40a0f0916188e66e00a907:getPixels\n",
      "2004-01-01: https://earthengine.googleapis.com/v1/projects/earthengine-legacy/thumbnails/75a7c0ad6650bc76e2ebc534b876beb6-68cc5e9d59e4bab40fff545802bfb341:getPixels\n",
      "2005-01-01: https://earthengine.googleapis.com/v1/projects/earthengine-legacy/thumbnails/7f02b766ee2cd6b06159e7e7988feaff-4b80e501a64eafa869ec842dcb74e2d3:getPixels\n",
      "2006-01-01: https://earthengine.googleapis.com/v1/projects/earthengine-legacy/thumbnails/01176f10de1ddf0a1b94598875028422-ea15c04fd8285909ad5dd33194a30010:getPixels\n",
      "2007-01-01: https://earthengine.googleapis.com/v1/projects/earthengine-legacy/thumbnails/72eaca9c676d89beacdc079fda93b5d6-9e303f87419ba1cc6fc834bdb9c025f4:getPixels\n",
      "2008-01-01: https://earthengine.googleapis.com/v1/projects/earthengine-legacy/thumbnails/215d3c1f5372ea79f007a772ab2a1f7e-9fd56ba0897eecaa1a57234a55745c56:getPixels\n",
      "2009-01-01: https://earthengine.googleapis.com/v1/projects/earthengine-legacy/thumbnails/02daf477df0a7536cb40f9ceb2b65d6f-a48e2410bf4d0b2b635f3b949fd5c75b:getPixels\n",
      "2010-01-01: https://earthengine.googleapis.com/v1/projects/earthengine-legacy/thumbnails/b4d795b1205f1be3665faa8da9480ae1-3f74608622d84918b12de9dd5bdcda15:getPixels\n",
      "2011-01-01: https://earthengine.googleapis.com/v1/projects/earthengine-legacy/thumbnails/e7a028016c91e760e9ac03e046bf895d-71348a42411d62461717de160e236d4e:getPixels\n",
      "2012-01-01: https://earthengine.googleapis.com/v1/projects/earthengine-legacy/thumbnails/1a2c8f3f63317413b42c9d4a9f5158a4-a9893c8bf5e20319dda59b045694afc9:getPixels\n",
      "2013-01-01: https://earthengine.googleapis.com/v1/projects/earthengine-legacy/thumbnails/f91c5762574feb64b141a9341c1e399a-e73de0c7478c95f4fa4eec89348a94c8:getPixels\n",
      "2014-01-01: https://earthengine.googleapis.com/v1/projects/earthengine-legacy/thumbnails/924495e118819fad4f7f82b3dea9ef55-fc86de22f2ecc378f970fc0bb6558e1a:getPixels\n",
      "2015-01-01: https://earthengine.googleapis.com/v1/projects/earthengine-legacy/thumbnails/2c8a51c0bcf0a772398be532b07ba747-47d5dfc3d1eb4f3bfca97e83aaa1fffe:getPixels\n",
      "2016-01-01: https://earthengine.googleapis.com/v1/projects/earthengine-legacy/thumbnails/28999ed70c9b7cf0d77505ce2be17d48-91870979b0ea818ed5e23e7d8e361f16:getPixels\n",
      "2017-01-01: https://earthengine.googleapis.com/v1/projects/earthengine-legacy/thumbnails/d1c85bf5fad071f07e4fe20951f8f760-a129f053b3aec3246b357ec3f68691df:getPixels\n",
      "2018-01-01: https://earthengine.googleapis.com/v1/projects/earthengine-legacy/thumbnails/dbab4f0cf70ba3260f85dbd1dc0d8dde-976fab690af5af10c7c5a25d52340f10:getPixels\n",
      "2019-01-01: https://earthengine.googleapis.com/v1/projects/earthengine-legacy/thumbnails/f9e5cf5805df6a2485d69b06867a060f-d53f8c449134c0b05958fa82d955def3:getPixels\n",
      "2020-01-01: https://earthengine.googleapis.com/v1/projects/earthengine-legacy/thumbnails/2d01f4dd5fba0663cfb65538f93e1627-f9e6a917b3777dfaf6b3fb59b14bab50:getPixels\n",
      "2021-01-01: https://earthengine.googleapis.com/v1/projects/earthengine-legacy/thumbnails/3c399b3deb61eccb53935cffb3e9025d-3095f6cd2a8fc2b6610ccde9f843f2c8:getPixels\n"
     ]
    },
    {
     "data": {
      "text/html": [
       "<img src=\"https://earthengine.googleapis.com/v1/projects/earthengine-legacy/thumbnails/a894039e6268edc2b05974b085189d97-86435cde1986d6e75be7dad10851b6ad:getPixels\"/>"
      ],
      "text/plain": [
       "<IPython.core.display.Image object>"
      ]
     },
     "execution_count": 22,
     "metadata": {},
     "output_type": "execute_result"
    }
   ],
   "source": [
    "for i in range(2000,2022,1):\n",
    "    Start_Date = str(i) + '-01-01'\n",
    "    End_Date = str(i) + '-12-31'\n",
    "    Dataset = ee.ImageCollection('IDAHO_EPSCOR/TERRACLIMATE').filterDate(Start_Date,End_Date).select('soil')\n",
    "    soil = Dataset.mean().clip(alaska_bound)\n",
    "    link = soil.getDownloadURL({\n",
    "        'scale' : 180,\n",
    "        'crs' : 'EPSG:4269',\n",
    "        'fileFormat': 'GeoTIFF',\n",
    "        'region': roi,\n",
    "        'name': 'soil_' + str(i),\n",
    "        'filePerBand': False     \n",
    "    })\n",
    "    print(Start_Date +\": \" + link)\n",
    "url = soil.getThumbUrl({\n",
    "    'min': -0, 'max': 9000 ,'region':roi,'dimensions':512,\n",
    "    'palette': ['006633', 'E5FFCC', '662A00', 'D8D8D8', 'F5F5F5']})\n",
    "Image(url=url)"
   ]
  },
  {
   "cell_type": "markdown",
   "id": "20612a23",
   "metadata": {},
   "source": [
    "## Precipitation\n",
    "- total precipitation per year"
   ]
  },
  {
   "cell_type": "code",
   "execution_count": 23,
   "id": "c60ce6ec",
   "metadata": {},
   "outputs": [
    {
     "name": "stdout",
     "output_type": "stream",
     "text": [
      "2000-01-01: https://earthengine.googleapis.com/v1/projects/earthengine-legacy/thumbnails/3a74d5c7b7dc6a8922b1e77c4af98cd1-41ba81d807b449d6ef71bce6c4910246:getPixels\n",
      "2001-01-01: https://earthengine.googleapis.com/v1/projects/earthengine-legacy/thumbnails/7f8db027cd23d783714d01d930a20884-940c88b206c28af39c37da3219985f49:getPixels\n",
      "2002-01-01: https://earthengine.googleapis.com/v1/projects/earthengine-legacy/thumbnails/95dbe23b52e0cf6fb6bb09c399b9eb05-b1f912094b529274dff3493fa5da240c:getPixels\n",
      "2003-01-01: https://earthengine.googleapis.com/v1/projects/earthengine-legacy/thumbnails/9935d9fa960141f43c240ac4762e67ed-111c02cc69fb098f665a5d31c83f5a16:getPixels\n",
      "2004-01-01: https://earthengine.googleapis.com/v1/projects/earthengine-legacy/thumbnails/19ebc6b21c0769b06f90021923046c84-75b095388fe90c1b8df07e2416fb1683:getPixels\n",
      "2005-01-01: https://earthengine.googleapis.com/v1/projects/earthengine-legacy/thumbnails/0de8589a520923d67450236b5a2dbaf4-dc969e6b23093783add6738e172f0579:getPixels\n",
      "2006-01-01: https://earthengine.googleapis.com/v1/projects/earthengine-legacy/thumbnails/d855eafa9d682e128f3699a62a2c3c94-4051066cf0ac12e389056ea5e7a08ac3:getPixels\n",
      "2007-01-01: https://earthengine.googleapis.com/v1/projects/earthengine-legacy/thumbnails/59715a3f17534d7a0b4c0571ded2b2ca-f3839370f31b3da41de2192c24946574:getPixels\n",
      "2008-01-01: https://earthengine.googleapis.com/v1/projects/earthengine-legacy/thumbnails/dc7baad252a231876ab23d371140738b-295715693948949ca7dfee9f9c0059e2:getPixels\n",
      "2009-01-01: https://earthengine.googleapis.com/v1/projects/earthengine-legacy/thumbnails/d3486636a9138858b75c09472b1fff66-ec2d01ac263fcf959ea8aef73d2028e8:getPixels\n",
      "2010-01-01: https://earthengine.googleapis.com/v1/projects/earthengine-legacy/thumbnails/d7191a247711f0a7d35f3d5646bae5d9-92db5b7ec8edf4fdc96839c90a2da5fb:getPixels\n",
      "2011-01-01: https://earthengine.googleapis.com/v1/projects/earthengine-legacy/thumbnails/7bc79a6d1f49a0d54a96ef9a85f4a39b-cfb8dc564f34acc659560b7a9d13063b:getPixels\n",
      "2012-01-01: https://earthengine.googleapis.com/v1/projects/earthengine-legacy/thumbnails/72f0e9abdd16a64d6e374bfdbe602c3a-68d7226088e71424ed8554678f351500:getPixels\n",
      "2013-01-01: https://earthengine.googleapis.com/v1/projects/earthengine-legacy/thumbnails/2a4de6ef5704f5b41f01273a733d94c8-0e2c23a175cdc6b18f6ff2b24a72608f:getPixels\n",
      "2014-01-01: https://earthengine.googleapis.com/v1/projects/earthengine-legacy/thumbnails/f8192d654bb4b18a2c2853c8021e2843-6ef95ff83da285413b06290119ad7589:getPixels\n",
      "2015-01-01: https://earthengine.googleapis.com/v1/projects/earthengine-legacy/thumbnails/fe23f5b5fa2a0fc29caa01e112746824-ee5c3624c5dd78eadc6f45e046c25c9b:getPixels\n",
      "2016-01-01: https://earthengine.googleapis.com/v1/projects/earthengine-legacy/thumbnails/ab00ee684e1792cd4466e7e0b356235a-8205d0515705363cd628379193bd6bfd:getPixels\n",
      "2017-01-01: https://earthengine.googleapis.com/v1/projects/earthengine-legacy/thumbnails/e22bfc60f85dcf283bbd078c13e075a7-d02ae0cd6fe25a8a3af306d1d23b6cca:getPixels\n",
      "2018-01-01: https://earthengine.googleapis.com/v1/projects/earthengine-legacy/thumbnails/64aae0e50f024614e499a65a064e1cf8-f1d1d7a52c3b897fc1fe43f3e2c1c65e:getPixels\n",
      "2019-01-01: https://earthengine.googleapis.com/v1/projects/earthengine-legacy/thumbnails/d8855a6c5522736b80877ad5eab7af0f-c7da658e8958e4ace32945924dd7043e:getPixels\n",
      "2020-01-01: https://earthengine.googleapis.com/v1/projects/earthengine-legacy/thumbnails/35abab391c472404ab0b69706c4df0a3-ef4c7271ea0091fdb792c9fa54996c9d:getPixels\n",
      "2021-01-01: https://earthengine.googleapis.com/v1/projects/earthengine-legacy/thumbnails/fd53153b6efdf54a0391c13482e65d48-74c68407fb21814590c89bd5867b1616:getPixels\n"
     ]
    },
    {
     "data": {
      "text/html": [
       "<img src=\"https://earthengine.googleapis.com/v1/projects/earthengine-legacy/thumbnails/dda9e9725422c875572c17e2abf2699a-eb1cbc7b0f213156c4564fb378683b0a:getPixels\"/>"
      ],
      "text/plain": [
       "<IPython.core.display.Image object>"
      ]
     },
     "execution_count": 23,
     "metadata": {},
     "output_type": "execute_result"
    }
   ],
   "source": [
    "for i in range(2000,2022,1):\n",
    "    Start_Date = str(i) + '-01-01'\n",
    "    End_Date = str(i) + '-12-31'\n",
    "    Dataset = ee.ImageCollection('IDAHO_EPSCOR/TERRACLIMATE').filterDate(Start_Date,End_Date).select('pr')\n",
    "    precip = Dataset.sum().clip(alaska_bound)\n",
    "    link = precip.getDownloadURL({\n",
    "        'scale' : 180,\n",
    "        'crs' : 'EPSG:4269',\n",
    "        'fileFormat': 'GeoTIFF',\n",
    "        'region': roi,\n",
    "        'name': 'precip_' + str(i),\n",
    "        'filePerBand': False     \n",
    "    })\n",
    "    print(Start_Date +\": \" + link)\n",
    "url = precip.getThumbUrl({\n",
    "    'min': -0, 'max': 9000 ,'region':roi,'dimensions':512,\n",
    "    'palette': ['006633', 'E5FFCC', '662A00', 'D8D8D8', 'F5F5F5']})\n",
    "Image(url=url)"
   ]
  },
  {
   "cell_type": "code",
   "execution_count": null,
   "id": "76781a0a",
   "metadata": {},
   "outputs": [],
   "source": []
  }
 ],
 "metadata": {
  "kernelspec": {
   "display_name": "Python 3 (ipykernel)",
   "language": "python",
   "name": "python3"
  },
  "language_info": {
   "codemirror_mode": {
    "name": "ipython",
    "version": 3
   },
   "file_extension": ".py",
   "mimetype": "text/x-python",
   "name": "python",
   "nbconvert_exporter": "python",
   "pygments_lexer": "ipython3",
   "version": "3.11.4"
  }
 },
 "nbformat": 4,
 "nbformat_minor": 5
}
