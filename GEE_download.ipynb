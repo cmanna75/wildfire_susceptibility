{
 "cells": [
  {
   "cell_type": "markdown",
   "id": "c237dea2",
   "metadata": {},
   "source": [
    " Import Required Libraries"
   ]
  },
  {
   "cell_type": "code",
   "execution_count": 1,
   "id": "3f3c643c",
   "metadata": {},
   "outputs": [],
   "source": [
    "import ee\n",
    "import geemap\n",
    "import pandas as pd\n",
    "from IPython.display import Image"
   ]
  },
  {
   "cell_type": "markdown",
   "id": "19603327",
   "metadata": {},
   "source": [
    "Authenticate Google Earth Engine"
   ]
  },
  {
   "cell_type": "code",
   "execution_count": 2,
   "id": "e7c74e5c",
   "metadata": {
    "scrolled": true
   },
   "outputs": [
    {
     "data": {
      "text/html": [
       "<p>To authorize access needed by Earth Engine, open the following\n",
       "        URL in a web browser and follow the instructions:</p>\n",
       "        <p><a href=https://code.earthengine.google.com/client-auth?scopes=https%3A//www.googleapis.com/auth/earthengine%20https%3A//www.googleapis.com/auth/devstorage.full_control&request_id=7-6MsV9Q-zGZjZN7TNhU9jNUESkwa_8kaCciI9UUeCk&tc=cXO90NudXuaVoYQENVPOG1XZgO4uc9uwjtJMpg1zFSA&cc=DhZJTn3RAN_UO486-x-77qWzMHmM3VMPcR0v4SRTFo8>https://code.earthengine.google.com/client-auth?scopes=https%3A//www.googleapis.com/auth/earthengine%20https%3A//www.googleapis.com/auth/devstorage.full_control&request_id=7-6MsV9Q-zGZjZN7TNhU9jNUESkwa_8kaCciI9UUeCk&tc=cXO90NudXuaVoYQENVPOG1XZgO4uc9uwjtJMpg1zFSA&cc=DhZJTn3RAN_UO486-x-77qWzMHmM3VMPcR0v4SRTFo8</a></p>\n",
       "        <p>The authorization workflow will generate a code, which you should paste in the box below.</p>\n",
       "        "
      ],
      "text/plain": [
       "<IPython.core.display.HTML object>"
      ]
     },
     "metadata": {},
     "output_type": "display_data"
    },
    {
     "name": "stdout",
     "output_type": "stream",
     "text": [
      "Enter verification code: 4/1AZEOvhW0mPL8_XtoQDj9tM-Rs9Mj5pT6BFDkLN9e-M7wBsNI7mCmtA2FMpg\n",
      "\n",
      "Successfully saved authorization token.\n"
     ]
    }
   ],
   "source": [
    "ee.Authenticate()\n",
    "ee.Initialize()"
   ]
  },
  {
   "cell_type": "markdown",
   "id": "3cc2863c",
   "metadata": {},
   "source": [
    "Import Data"
   ]
  },
  {
   "cell_type": "code",
   "execution_count": 3,
   "id": "8c955cb3",
   "metadata": {},
   "outputs": [],
   "source": [
    "#Alaska boundary\n",
    "alaska_bound = ee.FeatureCollection('TIGER/2018/States').filter(ee.Filter.eq('STUSPS','AK'))\n",
    "\n",
    "#create section of Ykdelta\n",
    "lon = 62.83\n",
    "lat = -153\n",
    "poi = ee.Geometry.Point(lon,lat)\n",
    "poi_reprojected = poi.transform('EPSG:4269')\n",
    "box = [-165.3,62.2,-162.5,63.4]\n",
    "roi =  ee.Geometry.Rectangle(box)"
   ]
  },
  {
   "cell_type": "code",
   "execution_count": 4,
   "id": "a3f2f5a5",
   "metadata": {},
   "outputs": [
    {
     "data": {
      "text/html": [
       "<img src=\"https://earthengine.googleapis.com/v1alpha/projects/earthengine-legacy/thumbnails/4d74cac4d6a3f879200412b9825bbaba-0f964cafba55c7118820959fe294bae8:getPixels\"/>"
      ],
      "text/plain": [
       "<IPython.core.display.Image object>"
      ]
     },
     "execution_count": 4,
     "metadata": {},
     "output_type": "execute_result"
    }
   ],
   "source": [
    "#Import Digital Elevation Model\n",
    "Dataset = ee.Image('USGS/3DEP/10m')\n",
    "Elevation = Dataset.select('elevation')\n",
    "\n",
    "#change alaska boundary to proper coordinate system\n",
    "alaska_bound_reprojected = alaska_bound.geometry().transform('EPSG:4269')\n",
    "\n",
    "#clip elevation to just alaska\n",
    "Elevation_Alaska = Elevation.clip(alaska_bound_reprojected)\n",
    "\n",
    "url = Elevation_Alaska.getThumbUrl({\n",
    "    'min': 0, 'max': 2500 ,'dimensions':512,\n",
    "    'palette': ['006633', 'E5FFCC', '662A00', 'D8D8D8', 'F5F5F5']})\n",
    "\n",
    "# Display\n",
    "Image(url=url)"
   ]
  },
  {
   "cell_type": "code",
   "execution_count": 5,
   "id": "dcaba9d0",
   "metadata": {},
   "outputs": [
    {
     "name": "stdout",
     "output_type": "stream",
     "text": [
      "https://earthengine.googleapis.com/v1alpha/projects/earthengine-legacy/thumbnails/9c9a4c1bb69f4e545decb8e385333006-873466afc9a1a25067898180cc770e5d:getPixels\n"
     ]
    },
    {
     "data": {
      "text/html": [
       "<img src=\"https://earthengine.googleapis.com/v1alpha/projects/earthengine-legacy/thumbnails/32482a69997a07f7f727605c46ad49ae-43d5e46c6a062755ab124ed0bfd4a476:getPixels\"/>"
      ],
      "text/plain": [
       "<IPython.core.display.Image object>"
      ]
     },
     "execution_count": 5,
     "metadata": {},
     "output_type": "execute_result"
    }
   ],
   "source": [
    "Elevation_Alaska_reprojected = Elevation_Alaska.reproject(crs='WGS84')\n",
    "\n",
    "#get download link\n",
    "link = Elevation_Alaska.getDownloadURL({\n",
    "    'scale' : 70,\n",
    "    'crs' : 'EPSG:4269',\n",
    "    'fileFormat': 'GeoTIFF',\n",
    "    'region': roi,\n",
    "    'name': 'elevation'\n",
    "})\n",
    "print(link)\n",
    "\n",
    "url = Elevation_Alaska.getThumbUrl({\n",
    "    'min': 0, 'max': 2500 ,'region':roi,'dimensions':512,\n",
    "    'palette': ['006633', 'E5FFCC', '662A00', 'D8D8D8', 'F5F5F5']})\n",
    "Image(url=url)"
   ]
  },
  {
   "cell_type": "markdown",
   "id": "8b7811f7",
   "metadata": {},
   "source": [
    "Get Slope from DEM"
   ]
  },
  {
   "cell_type": "code",
   "execution_count": 6,
   "id": "49023df2",
   "metadata": {},
   "outputs": [
    {
     "data": {
      "text/html": [
       "<img src=\"https://earthengine.googleapis.com/v1alpha/projects/earthengine-legacy/thumbnails/540de3cc1b4d89ec4a3afb36e16fb39c-cbb242d320f7063b7390d4ab948b3346:getPixels\"/>"
      ],
      "text/plain": [
       "<IPython.core.display.Image object>"
      ]
     },
     "execution_count": 6,
     "metadata": {},
     "output_type": "execute_result"
    }
   ],
   "source": [
    "Slope_Alaska = ee.Terrain.slope(Elevation_Alaska)\n",
    "\n",
    "\n",
    "url = Slope_Alaska.getThumbUrl({\n",
    "    'min': 0, 'max': 90 ,'dimensions':512,\n",
    "    'palette': ['006633', 'E5FFCC', '662A00', 'D8D8D8', 'F5F5F5']})\n",
    "\n",
    "# Display\n",
    "Image(url=url)"
   ]
  },
  {
   "cell_type": "code",
   "execution_count": 7,
   "id": "2ade3d21",
   "metadata": {},
   "outputs": [
    {
     "name": "stdout",
     "output_type": "stream",
     "text": [
      "https://earthengine.googleapis.com/v1alpha/projects/earthengine-legacy/thumbnails/46e55a7002689b95176f25dddb543d45-31cadbadb0ee35057ce0e54f54dd93e8:getPixels\n"
     ]
    },
    {
     "data": {
      "text/html": [
       "<img src=\"https://earthengine.googleapis.com/v1alpha/projects/earthengine-legacy/thumbnails/3cc1a859e5967b7a29ae7961d2532fd2-5ebc80ed3bfc59a9f031b30c8f914fb2:getPixels\"/>"
      ],
      "text/plain": [
       "<IPython.core.display.Image object>"
      ]
     },
     "execution_count": 7,
     "metadata": {},
     "output_type": "execute_result"
    }
   ],
   "source": [
    "#get download link\n",
    "\n",
    "link = Slope_Alaska.getDownloadURL({\n",
    "    'scale' : 70,\n",
    "    'crs' : 'EPSG:4269',\n",
    "    'fileFormat': 'GeoTIFF',\n",
    "    'region': roi,\n",
    "    'name': 'slope'\n",
    "})\n",
    "print(link)\n",
    "\n",
    "url = Slope_Alaska.getThumbUrl({\n",
    "    'min': 0, 'max': 90 ,'region':roi,'dimensions':512,\n",
    "    'palette': ['006633', 'E5FFCC', '662A00', 'D8D8D8', 'F5F5F5']})\n",
    "Image(url=url)"
   ]
  },
  {
   "cell_type": "code",
   "execution_count": 8,
   "id": "f37de923",
   "metadata": {},
   "outputs": [
    {
     "data": {
      "text/html": [
       "<img src=\"https://earthengine.googleapis.com/v1alpha/projects/earthengine-legacy/thumbnails/8e06af2214a33c1abd2d9d50ca11cfbb-360e8cfd74c118b9231ec24e7224365e:getPixels\"/>"
      ],
      "text/plain": [
       "<IPython.core.display.Image object>"
      ]
     },
     "execution_count": 8,
     "metadata": {},
     "output_type": "execute_result"
    }
   ],
   "source": [
    "Aspect_Alaska = ee.Terrain.aspect(Elevation_Alaska)\n",
    "\n",
    "url = Aspect_Alaska.getThumbUrl({\n",
    "    'min': 0, 'max': 360 ,'dimensions':512,\n",
    "    'palette': ['006633', 'E5FFCC', '662A00', 'D8D8D8', 'F5F5F5']})\n",
    "\n",
    "# Display\n",
    "Image(url=url)"
   ]
  },
  {
   "cell_type": "code",
   "execution_count": 9,
   "id": "da4ec5fd",
   "metadata": {},
   "outputs": [
    {
     "name": "stdout",
     "output_type": "stream",
     "text": [
      "https://earthengine.googleapis.com/v1alpha/projects/earthengine-legacy/thumbnails/5b97ffd766d4204ac066d1b2652aa056-4dc89c9d9f3a71e1186039a74b10e6fa:getPixels\n"
     ]
    },
    {
     "data": {
      "text/html": [
       "<img src=\"https://earthengine.googleapis.com/v1alpha/projects/earthengine-legacy/thumbnails/2b10e4a0862ba6c97f71261db752979a-f8e5795d340ab97e57b02a28b3236af6:getPixels\"/>"
      ],
      "text/plain": [
       "<IPython.core.display.Image object>"
      ]
     },
     "execution_count": 9,
     "metadata": {},
     "output_type": "execute_result"
    }
   ],
   "source": [
    "#get download link\n",
    "\n",
    "link = Aspect_Alaska.getDownloadURL({\n",
    "    'scale' : 70,\n",
    "    'crs' : 'EPSG:4269',\n",
    "    'fileFormat': 'GeoTIFF',\n",
    "    'region': roi,\n",
    "    'name': 'aspect'\n",
    "})\n",
    "print(link)\n",
    "\n",
    "url = Aspect_Alaska.getThumbUrl({\n",
    "    'min': 0, 'max': 360 ,'region':roi,'dimensions':512,\n",
    "    'palette': ['006633', 'E5FFCC', '662A00', 'D8D8D8', 'F5F5F5']})\n",
    "Image(url=url)"
   ]
  },
  {
   "cell_type": "code",
   "execution_count": 6,
   "id": "b7a49911",
   "metadata": {
    "scrolled": true
   },
   "outputs": [
    {
     "data": {
      "text/html": [
       "<img src=\"https://earthengine.googleapis.com/v1alpha/projects/earthengine-legacy/thumbnails/9291a2553a413e4484574c8e8a17766a-e06468d733ed3d9f406a84567c454553:getPixels\"/>"
      ],
      "text/plain": [
       "<IPython.core.display.Image object>"
      ]
     },
     "execution_count": 6,
     "metadata": {},
     "output_type": "execute_result"
    }
   ],
   "source": [
    "#NDVI\n",
    "Dataset = ee.ImageCollection('MODIS/061/MYD13Q1').filterDate('2018-01-01','2018-02-01')\n",
    "\n",
    "NDVI = Dataset.select('NDVI')\n",
    "#NDVI_Alaska = NDVI.clip('alaska_bound_reprojected')\n",
    "NDVI_Alaska = NDVI.mosaic().clip(alaska_bound)\n",
    "url = NDVI_Alaska.getThumbUrl({\n",
    "   'min': -2000, 'max': 10000 ,'region':alaska_bound.geometry(), 'dimensions':2048,\n",
    "   'palette': ['006633', 'E5FFCC', '662A00', 'D8D8D8', 'F5F5F5']})\n",
    "Image(url=url)"
   ]
  },
  {
   "cell_type": "code",
   "execution_count": 11,
   "id": "9820dcad",
   "metadata": {
    "scrolled": false
   },
   "outputs": [
    {
     "name": "stdout",
     "output_type": "stream",
     "text": [
      "2000-01-01: https://earthengine.googleapis.com/v1alpha/projects/earthengine-legacy/thumbnails/bede17027561807b4ec9010dafe5a39c-0eaaaf72eef7220105088d60544fc922:getPixels\n",
      "2001-01-01: https://earthengine.googleapis.com/v1alpha/projects/earthengine-legacy/thumbnails/d3c6618534804760994259175c52e0d7-59b8fa74f80a6bdf5b6d2a5c2b9fa546:getPixels\n",
      "2002-01-01: https://earthengine.googleapis.com/v1alpha/projects/earthengine-legacy/thumbnails/1fd47225173bb48b762d09854dd089ef-2442450beacf670846dffbf42ea42c4e:getPixels\n",
      "2003-01-01: https://earthengine.googleapis.com/v1alpha/projects/earthengine-legacy/thumbnails/d9f8402c1529b9f9f306c961ec9b6b62-83a9f3c427b11e6f84c084385e09ad86:getPixels\n",
      "2004-01-01: https://earthengine.googleapis.com/v1alpha/projects/earthengine-legacy/thumbnails/a50f842d8e6b5190892847e823924034-34f70868dd97bdbc50fd90005c114370:getPixels\n",
      "2005-01-01: https://earthengine.googleapis.com/v1alpha/projects/earthengine-legacy/thumbnails/e47847b9ccb0439b2be8c4060f1380fb-a818b9915a8e1f79f492057859706af6:getPixels\n",
      "2006-01-01: https://earthengine.googleapis.com/v1alpha/projects/earthengine-legacy/thumbnails/582308b7a05724a664a8b2b503ff591d-1f1eea0fce1791a70b9312d3628d6dcb:getPixels\n",
      "2007-01-01: https://earthengine.googleapis.com/v1alpha/projects/earthengine-legacy/thumbnails/fc73ad3cb085f082f7a57cc2c7392824-deec7512e57ab478d05382e6c0906c4d:getPixels\n",
      "2008-01-01: https://earthengine.googleapis.com/v1alpha/projects/earthengine-legacy/thumbnails/13cb454018875dc6d4239b801de1c0e8-a3fc274d87777d082eb93d5015c8bb6f:getPixels\n",
      "2009-01-01: https://earthengine.googleapis.com/v1alpha/projects/earthengine-legacy/thumbnails/591765cfe8047faf395be1b5e2fce32c-2ead651096fe9945aa0344a699c75f71:getPixels\n",
      "2010-01-01: https://earthengine.googleapis.com/v1alpha/projects/earthengine-legacy/thumbnails/86eaf72d37a0b6ad357c71ec1ee39782-70497c34375b2de0e6b8cdd17604105d:getPixels\n",
      "2011-01-01: https://earthengine.googleapis.com/v1alpha/projects/earthengine-legacy/thumbnails/0929ec92d4751e1ea86d35ce736f924c-da5fe9ffa163baaf93fae906c2d7c069:getPixels\n",
      "2012-01-01: https://earthengine.googleapis.com/v1alpha/projects/earthengine-legacy/thumbnails/6787a190938e06485de8ce55121c66d7-1daca49b1b8c2ec653458b56a3a07944:getPixels\n",
      "2013-01-01: https://earthengine.googleapis.com/v1alpha/projects/earthengine-legacy/thumbnails/f755e6d3a3122d47f4612cfc63a911ff-81154d0137b695b337a5af1220e3fb87:getPixels\n",
      "2014-01-01: https://earthengine.googleapis.com/v1alpha/projects/earthengine-legacy/thumbnails/1155e38728be4395d2d0305cdf5e6790-148047a8568dbcccdc92152c2d68f853:getPixels\n",
      "2015-01-01: https://earthengine.googleapis.com/v1alpha/projects/earthengine-legacy/thumbnails/573470c48a48e83522076961bfcc500f-ab0313da52cd1e4ed6b3488e3f5c6532:getPixels\n",
      "2016-01-01: https://earthengine.googleapis.com/v1alpha/projects/earthengine-legacy/thumbnails/52a6dc29dddf1db75e2c1b9b23387225-123533bc20bb26c9174656e4df9f6090:getPixels\n",
      "2017-01-01: https://earthengine.googleapis.com/v1alpha/projects/earthengine-legacy/thumbnails/a6fc6675fa89262d2732c4316a5e41a0-8712a5b17be556f4ebbd8b58efa77d88:getPixels\n",
      "2018-01-01: https://earthengine.googleapis.com/v1alpha/projects/earthengine-legacy/thumbnails/27d66c1c9ce2975a067dce36b8a62403-553f9836cb13a48a41e7debcade901cf:getPixels\n",
      "2019-01-01: https://earthengine.googleapis.com/v1alpha/projects/earthengine-legacy/thumbnails/f0d4f9b0812b3c89f26cdd19508894a1-85ea90a3b0033dd4c0fda5c49c9f3032:getPixels\n",
      "2020-01-01: https://earthengine.googleapis.com/v1alpha/projects/earthengine-legacy/thumbnails/dadc63bb5bb5f12e994f99b83e08c08b-82485e8666680757d0707a173fb511ec:getPixels\n",
      "2021-01-01: https://earthengine.googleapis.com/v1alpha/projects/earthengine-legacy/thumbnails/af13b1f0e947ced16a73b19b2d3c9018-fbde0beaa1fb9c653612f0cf3ec4f517:getPixels\n"
     ]
    },
    {
     "data": {
      "text/html": [
       "<img src=\"https://earthengine.googleapis.com/v1alpha/projects/earthengine-legacy/thumbnails/649257c19ee73ee37205ab46ee3aa3d5-cc56a5ab8bff9acb905b0dd71f03962b:getPixels\"/>"
      ],
      "text/plain": [
       "<IPython.core.display.Image object>"
      ]
     },
     "execution_count": 11,
     "metadata": {},
     "output_type": "execute_result"
    }
   ],
   "source": [
    "for i in range(2000,2022,1):\n",
    "    Start_Date = str(i) + '-01-01'\n",
    "    End_Date = str(i) + '-12-31'\n",
    "\n",
    "    Dataset = ee.ImageCollection('MODIS/061/MYD13Q1').filterDate(Start_Date,End_Date).select('NDVI')\n",
    "    NDVI_Alaska = NDVI.mosaic().clip(alaska_bound)\n",
    "    #get download link\n",
    "    link = NDVI_Alaska.getDownloadURL({\n",
    "        'scale' : 50,\n",
    "        'crs' : 'EPSG:4269',\n",
    "        'fileFormat': 'GeoTIFF',\n",
    "        'region': roi,\n",
    "        'name': 'NDVI_' + str(i)     \n",
    "    })\n",
    "    print(Start_Date +\": \" + link)\n",
    "\n",
    "url = NDVI_Alaska.getThumbUrl({\n",
    "    'min': -2000, 'max': 10000 ,'region':roi,'dimensions':512,\n",
    "    'palette': ['006633', 'E5FFCC', '662A00', 'D8D8D8', 'F5F5F5']})\n",
    "Image(url=url)\n",
    "    "
   ]
  },
  {
   "cell_type": "markdown",
   "id": "943b79cc",
   "metadata": {},
   "source": [
    "Temperature"
   ]
  },
  {
   "cell_type": "code",
   "execution_count": 31,
   "id": "fb5ab039",
   "metadata": {},
   "outputs": [
    {
     "name": "stdout",
     "output_type": "stream",
     "text": [
      "2000-01-01: https://earthengine.googleapis.com/v1alpha/projects/earthengine-legacy/thumbnails/7b2c4c8313f79833f768aec5084ff119-acca58eb9d081b7ba3662c95d558b1a7:getPixels\n",
      "2001-01-01: https://earthengine.googleapis.com/v1alpha/projects/earthengine-legacy/thumbnails/baf7fcd56be094b46b79539ec25275b2-57effa7235726b0b7800f22e92ed26ef:getPixels\n",
      "2002-01-01: https://earthengine.googleapis.com/v1alpha/projects/earthengine-legacy/thumbnails/fbbb8046fef243712827a4ec05274aec-1427342c0718d4dbc04301c89efbbbfd:getPixels\n",
      "2003-01-01: https://earthengine.googleapis.com/v1alpha/projects/earthengine-legacy/thumbnails/8c1a2b1cf1170b241fc7f346e02f6cec-76d30820b49bc68f98de4578254a6b77:getPixels\n",
      "2004-01-01: https://earthengine.googleapis.com/v1alpha/projects/earthengine-legacy/thumbnails/f10d1b6324d60ecd3a4d8d933c4b4895-e327ee9df4a611a0d971b2b72cba3b58:getPixels\n",
      "2005-01-01: https://earthengine.googleapis.com/v1alpha/projects/earthengine-legacy/thumbnails/bef34faac663a08042914aadb6c26bcc-fb911194e36575af5dd398d704b6f17b:getPixels\n",
      "2006-01-01: https://earthengine.googleapis.com/v1alpha/projects/earthengine-legacy/thumbnails/26cc3098c5379b969e2f8050a1f97113-39984980b5c1c0f71a0d34a99ee767ec:getPixels\n",
      "2007-01-01: https://earthengine.googleapis.com/v1alpha/projects/earthengine-legacy/thumbnails/49902218ee8214c489651fbbe3165ea7-40a5fd62fd2cab27f71eec1828f9543a:getPixels\n",
      "2008-01-01: https://earthengine.googleapis.com/v1alpha/projects/earthengine-legacy/thumbnails/7f87e9e8372d540276f8dc3d314fdbf0-ba285f105e5f72ba32b5ef644a234a73:getPixels\n",
      "2009-01-01: https://earthengine.googleapis.com/v1alpha/projects/earthengine-legacy/thumbnails/1cbed2c5ffe3c6543284d28631b935e4-b1b2e7cd26c1faa12b6c4ef1242e44c8:getPixels\n",
      "2010-01-01: https://earthengine.googleapis.com/v1alpha/projects/earthengine-legacy/thumbnails/d858a14afa722baa4511e20630ab9ba2-8feb221f7a8d30ed85d10d7c89430257:getPixels\n",
      "2011-01-01: https://earthengine.googleapis.com/v1alpha/projects/earthengine-legacy/thumbnails/884f956c953959e37fb55c1661282266-a17d30dbc01dc4ad1e480dfd70930014:getPixels\n",
      "2012-01-01: https://earthengine.googleapis.com/v1alpha/projects/earthengine-legacy/thumbnails/5ecc6191e833d9c08861e1a212384b34-a2b7dc0f3f8f51d4f533f4213c2c97ae:getPixels\n",
      "2013-01-01: https://earthengine.googleapis.com/v1alpha/projects/earthengine-legacy/thumbnails/3f7053a0e856e3b7f1d6d497b550cdd0-9ea1aaec38a4d7b13629c738602d6cf9:getPixels\n",
      "2014-01-01: https://earthengine.googleapis.com/v1alpha/projects/earthengine-legacy/thumbnails/0e33bbbcd29ccf29ea2a7f207d89ba45-bc1ac7093db914fc9a6a15042e510f2e:getPixels\n",
      "2015-01-01: https://earthengine.googleapis.com/v1alpha/projects/earthengine-legacy/thumbnails/d7b69e3ba88d1c52fbb9b81a2189006d-1d853447781efd3c4a7048c8cc028194:getPixels\n",
      "2016-01-01: https://earthengine.googleapis.com/v1alpha/projects/earthengine-legacy/thumbnails/ebb7a7dfa812e04b912ae72be2bb698b-f1c4cbc6e220099d321c9e9e570e9334:getPixels\n",
      "2017-01-01: https://earthengine.googleapis.com/v1alpha/projects/earthengine-legacy/thumbnails/ff490f2cb3636c2e477150afdcceda3b-25a5b3e47d41ac99ec9ee5d56cd356a4:getPixels\n",
      "2018-01-01: https://earthengine.googleapis.com/v1alpha/projects/earthengine-legacy/thumbnails/2d8dde6e7fb1d5f0c7d4cc02b7ee815f-667ca9ae10b32da6697d85c4ba77e5dd:getPixels\n",
      "2019-01-01: https://earthengine.googleapis.com/v1alpha/projects/earthengine-legacy/thumbnails/e7b26ab63a1ba0f085cc25278fbf65fc-99291c2dd1043c7e610cef1305fc7783:getPixels\n",
      "2020-01-01: https://earthengine.googleapis.com/v1alpha/projects/earthengine-legacy/thumbnails/e130efe68705ba5257a1f4e7b8290abc-64211bc9ea8e96793166b0ace98269f4:getPixels\n",
      "2021-01-01: https://earthengine.googleapis.com/v1alpha/projects/earthengine-legacy/thumbnails/cba94011fd02c5f9884733ed1386c8c9-01ce1f7ed5954bced9d3fefae04f1fc6:getPixels\n"
     ]
    },
    {
     "data": {
      "text/html": [
       "<img src=\"https://earthengine.googleapis.com/v1alpha/projects/earthengine-legacy/thumbnails/cc0cd8d98649cb49ec04ffe7d66abebb-53f8389794e4f2b58910349b2d10892c:getPixels\"/>"
      ],
      "text/plain": [
       "<IPython.core.display.Image object>"
      ]
     },
     "execution_count": 31,
     "metadata": {},
     "output_type": "execute_result"
    }
   ],
   "source": [
    "for i in range(2000,2022,1):\n",
    "    Start_Date = str(i) + '-01-01'\n",
    "    End_Date = str(i) + '-12-31'\n",
    "    Dataset = ee.ImageCollection('IDAHO_EPSCOR/TERRACLIMATE').filterDate(Start_Date,End_Date).select('tmmx')\n",
    "    avg_maxTemp = Dataset.mean().clip(alaska_bound)\n",
    "    link = avg_maxTemp.getDownloadURL({\n",
    "        'scale' : 100,\n",
    "        'crs' : 'EPSG:4269',\n",
    "        'fileFormat': 'GeoTIFF',\n",
    "        'region': roi,\n",
    "        'name': 'avgmaxTemp_' + str(i)     \n",
    "    })\n",
    "    print(Start_Date +\": \" + link)\n",
    "url = avg_maxTemp.getThumbUrl({\n",
    "    'min': -670, 'max': 576 ,'region':roi,'dimensions':512,\n",
    "    'palette': ['006633', 'E5FFCC', '662A00', 'D8D8D8', 'F5F5F5']})\n",
    "Image(url=url)"
   ]
  },
  {
   "cell_type": "markdown",
   "id": "ab75d93b",
   "metadata": {},
   "source": [
    "Soil Moisture"
   ]
  },
  {
   "cell_type": "code",
   "execution_count": 32,
   "id": "4b76a4d7",
   "metadata": {},
   "outputs": [
    {
     "name": "stdout",
     "output_type": "stream",
     "text": [
      "2000-01-01: https://earthengine.googleapis.com/v1alpha/projects/earthengine-legacy/thumbnails/10a6e3e8d9f48eb5f01d1bcf09a87b45-6010d6640d52b44b2e7a97bbccc3e8f6:getPixels\n",
      "2001-01-01: https://earthengine.googleapis.com/v1alpha/projects/earthengine-legacy/thumbnails/0ee157f2600d80b0aeb56fd17029a4f5-d89b211757672224d48f27966825c13e:getPixels\n",
      "2002-01-01: https://earthengine.googleapis.com/v1alpha/projects/earthengine-legacy/thumbnails/caf15d393033df09acf0e641acbc42ab-85bbe178be849a29c16729cd78c2cf18:getPixels\n",
      "2003-01-01: https://earthengine.googleapis.com/v1alpha/projects/earthengine-legacy/thumbnails/6a7da5c511e184d820a381c2a7ba348b-3a2f1f9152271a3f3722ef7cfce9ae63:getPixels\n",
      "2004-01-01: https://earthengine.googleapis.com/v1alpha/projects/earthengine-legacy/thumbnails/4fd422aec43a1754eb1eea41db39c7bd-733c9dc530c92942d65fd68b4d76034a:getPixels\n",
      "2005-01-01: https://earthengine.googleapis.com/v1alpha/projects/earthengine-legacy/thumbnails/412059e7492c5f300837236be1643436-05693ca6997144a1de97e926570c1ea6:getPixels\n",
      "2006-01-01: https://earthengine.googleapis.com/v1alpha/projects/earthengine-legacy/thumbnails/12ea2cdd0d3e1da2dbfc5f7222cfeb99-cfae6a1241f684c6add79579a4369c54:getPixels\n",
      "2007-01-01: https://earthengine.googleapis.com/v1alpha/projects/earthengine-legacy/thumbnails/0f5ecf988da95b83d346fcda4c812116-e1ad82359d0d50fd3b88512ca12ffc0f:getPixels\n",
      "2008-01-01: https://earthengine.googleapis.com/v1alpha/projects/earthengine-legacy/thumbnails/848ad5c221f29eadd3295f8088c6df0d-f25ee3c906394f0cb31a881b9b1dfeca:getPixels\n",
      "2009-01-01: https://earthengine.googleapis.com/v1alpha/projects/earthengine-legacy/thumbnails/0853e1db2cf89efb836efff1e42b7475-feec982be553b4587da54ed35ab90c1e:getPixels\n",
      "2010-01-01: https://earthengine.googleapis.com/v1alpha/projects/earthengine-legacy/thumbnails/231c81f8c13a205fc77a4fb5e11791ef-e15df6cdfc70b947b1b7095e57aebd31:getPixels\n",
      "2011-01-01: https://earthengine.googleapis.com/v1alpha/projects/earthengine-legacy/thumbnails/e2158dbd9bc6912df3e9645626bdd9c7-32aaf41c390ee955ab9cea2407d36e70:getPixels\n",
      "2012-01-01: https://earthengine.googleapis.com/v1alpha/projects/earthengine-legacy/thumbnails/e075e9a31b572a005f50ee59b97cee27-30d728d3cd2599887aaddda00ed492c0:getPixels\n",
      "2013-01-01: https://earthengine.googleapis.com/v1alpha/projects/earthengine-legacy/thumbnails/f7a6c96bb3c49b3dc6166928404c206a-7d49a0f37f6db0013a119ede1fa73d0b:getPixels\n",
      "2014-01-01: https://earthengine.googleapis.com/v1alpha/projects/earthengine-legacy/thumbnails/dc09cd9a2c74c71e1e0a89f9c9be1ce0-c4456198349b51acfabbcaafe76b0600:getPixels\n",
      "2015-01-01: https://earthengine.googleapis.com/v1alpha/projects/earthengine-legacy/thumbnails/4f7096cd4fee9aeb80bba9098bacccf4-2741bfe66b6c8a174d2de9659244763c:getPixels\n",
      "2016-01-01: https://earthengine.googleapis.com/v1alpha/projects/earthengine-legacy/thumbnails/0963a313adc987b05a8559dd2d4481c7-dee8b6456ebcd8977eda3ca37ec77a82:getPixels\n",
      "2017-01-01: https://earthengine.googleapis.com/v1alpha/projects/earthengine-legacy/thumbnails/f9bab6762b34b153b4b013a1128775ca-aa413699ea5eef6f4c130f86390dd59d:getPixels\n",
      "2018-01-01: https://earthengine.googleapis.com/v1alpha/projects/earthengine-legacy/thumbnails/1519344c2b0aea2b196532d5fac441c5-d76d36c81722b5283521413f4d20b363:getPixels\n",
      "2019-01-01: https://earthengine.googleapis.com/v1alpha/projects/earthengine-legacy/thumbnails/38e35589be84157df36df73267d6ca1f-23fc970091ace93fb20318d0779a4e3c:getPixels\n",
      "2020-01-01: https://earthengine.googleapis.com/v1alpha/projects/earthengine-legacy/thumbnails/d166dcc126828d667ddcc6f327d09255-039d563052f8ebd44c38540a94f1c853:getPixels\n",
      "2021-01-01: https://earthengine.googleapis.com/v1alpha/projects/earthengine-legacy/thumbnails/f3da1b01041aa0ee03fba401e468505f-6e01ec31b3dc02eb80384e2c13418cb0:getPixels\n"
     ]
    },
    {
     "data": {
      "text/html": [
       "<img src=\"https://earthengine.googleapis.com/v1alpha/projects/earthengine-legacy/thumbnails/7ff00e234183db1414bacf082c099b3d-5faf70ee2e8a7dee9d946be2c5c20d3d:getPixels\"/>"
      ],
      "text/plain": [
       "<IPython.core.display.Image object>"
      ]
     },
     "execution_count": 32,
     "metadata": {},
     "output_type": "execute_result"
    }
   ],
   "source": [
    "for i in range(2000,2022,1):\n",
    "    Start_Date = str(i) + '-01-01'\n",
    "    End_Date = str(i) + '-12-31'\n",
    "    Dataset = ee.ImageCollection('IDAHO_EPSCOR/TERRACLIMATE').filterDate(Start_Date,End_Date).select('soil')\n",
    "    soil = Dataset.mean().clip(alaska_bound)\n",
    "    link = soil.getDownloadURL({\n",
    "        'scale' : 90,\n",
    "        'crs' : 'EPSG:4269',\n",
    "        'fileFormat': 'GeoTIFF',\n",
    "        'region': roi,\n",
    "        'name': 'soil_' + str(i)     \n",
    "    })\n",
    "    print(Start_Date +\": \" + link)\n",
    "url = soil.getThumbUrl({\n",
    "    'min': -0, 'max': 9000 ,'region':roi,'dimensions':512,\n",
    "    'palette': ['006633', 'E5FFCC', '662A00', 'D8D8D8', 'F5F5F5']})\n",
    "Image(url=url)"
   ]
  },
  {
   "cell_type": "markdown",
   "id": "20612a23",
   "metadata": {},
   "source": [
    "# Precipitation"
   ]
  },
  {
   "cell_type": "code",
   "execution_count": 33,
   "id": "c60ce6ec",
   "metadata": {},
   "outputs": [
    {
     "name": "stdout",
     "output_type": "stream",
     "text": [
      "2000-01-01: https://earthengine.googleapis.com/v1alpha/projects/earthengine-legacy/thumbnails/2b8a2e4470d3b7b4f7f6870e09053e73-19aabee746559b0855ed654b8c337fff:getPixels\n",
      "2001-01-01: https://earthengine.googleapis.com/v1alpha/projects/earthengine-legacy/thumbnails/257f7ad1288a87b519b65124af75afdf-ce4e74f0dc33af7b6c4c6f9d4b3113f1:getPixels\n",
      "2002-01-01: https://earthengine.googleapis.com/v1alpha/projects/earthengine-legacy/thumbnails/7696898bbfa2e114d4714e92d9e2cb64-79b026a78f5f55a3f20fc1d5507770de:getPixels\n",
      "2003-01-01: https://earthengine.googleapis.com/v1alpha/projects/earthengine-legacy/thumbnails/62a5c40376ef29961f6f86c0fb56c022-66b1bcbfb569129184e76673a5e79f47:getPixels\n",
      "2004-01-01: https://earthengine.googleapis.com/v1alpha/projects/earthengine-legacy/thumbnails/ad754be77475125ae9578f52ab6f5e4d-8d22052dee802a5ec2a66a4540f7d63b:getPixels\n",
      "2005-01-01: https://earthengine.googleapis.com/v1alpha/projects/earthengine-legacy/thumbnails/3d6921d2c0ae34ef0c28bd8fec6de100-143736c2137ab527c94842126b908d4a:getPixels\n",
      "2006-01-01: https://earthengine.googleapis.com/v1alpha/projects/earthengine-legacy/thumbnails/2d3d47856d2e1a02e312df20509487c6-cd1823e319bc3a2bbda3164ea3527257:getPixels\n",
      "2007-01-01: https://earthengine.googleapis.com/v1alpha/projects/earthengine-legacy/thumbnails/4a9764b1d009a9420edd6045835abe1e-7d30ee97f0843694487f6e3e9b5b93b4:getPixels\n",
      "2008-01-01: https://earthengine.googleapis.com/v1alpha/projects/earthengine-legacy/thumbnails/beacfe7dde8cec42d2fba1a8a5ae0b6c-908bac435bb4b92ca163f9798635f286:getPixels\n",
      "2009-01-01: https://earthengine.googleapis.com/v1alpha/projects/earthengine-legacy/thumbnails/0194f45624fc51d26c59b25d783d6486-c75b92a3702a900e2a648200484977e7:getPixels\n",
      "2010-01-01: https://earthengine.googleapis.com/v1alpha/projects/earthengine-legacy/thumbnails/b284760423d4afd795b317b78fd0754d-74db4957ffc450a15baabcc20a8b1336:getPixels\n",
      "2011-01-01: https://earthengine.googleapis.com/v1alpha/projects/earthengine-legacy/thumbnails/b3f6b4fc7f4b82b4b1e912e48149d59b-6472ff842c5d83ae00044d26124166d5:getPixels\n",
      "2012-01-01: https://earthengine.googleapis.com/v1alpha/projects/earthengine-legacy/thumbnails/ae0d21474e062a3728dd1baea38dc4e7-a249fbc0e8922aa6f54abc8fa6d8f509:getPixels\n",
      "2013-01-01: https://earthengine.googleapis.com/v1alpha/projects/earthengine-legacy/thumbnails/5746034ac4769825b111af384ad82560-0bc0b0dba39d5165fee5e7e9a999e9bf:getPixels\n",
      "2014-01-01: https://earthengine.googleapis.com/v1alpha/projects/earthengine-legacy/thumbnails/c317f119ec5ecc74c8cd844d5faa2ff8-e0ff4c408e18132e7da3ef0fd0bbcc18:getPixels\n",
      "2015-01-01: https://earthengine.googleapis.com/v1alpha/projects/earthengine-legacy/thumbnails/ba5c99fc044783e09f7c42e6c63cdfc3-c47f4c3bb28f8327969cbe6e567ca270:getPixels\n",
      "2016-01-01: https://earthengine.googleapis.com/v1alpha/projects/earthengine-legacy/thumbnails/639d71217f09d761ae480732be50dd59-0f704ddb45eff28ca6d2f26d7c3d0e2c:getPixels\n",
      "2017-01-01: https://earthengine.googleapis.com/v1alpha/projects/earthengine-legacy/thumbnails/176895664b9bdb13c2992ddc3d5c6838-3c1f6375bef8ebc9567b673f7ff4291a:getPixels\n",
      "2018-01-01: https://earthengine.googleapis.com/v1alpha/projects/earthengine-legacy/thumbnails/61d3afd53589e38b8f16001467f38f92-745e7df03f60c5cc371140e546b73600:getPixels\n",
      "2019-01-01: https://earthengine.googleapis.com/v1alpha/projects/earthengine-legacy/thumbnails/296462dfbad14b6d2176a0f3ea4f01ee-395fc016fe59c0a375bd1b630de64150:getPixels\n",
      "2020-01-01: https://earthengine.googleapis.com/v1alpha/projects/earthengine-legacy/thumbnails/a9c468f0525642d882b25dd0db0df24f-16ff9e69cd0dda50c750013fb7e5f403:getPixels\n",
      "2021-01-01: https://earthengine.googleapis.com/v1alpha/projects/earthengine-legacy/thumbnails/d187d71edc6e25939800bfbe76c6f34f-c5cfb7f35bbb269c93f568e71c2d1421:getPixels\n"
     ]
    },
    {
     "data": {
      "text/html": [
       "<img src=\"https://earthengine.googleapis.com/v1alpha/projects/earthengine-legacy/thumbnails/f038b73a657147e29571a1833bc57854-dd81d2359a719cd1aa35d936f90ffe70:getPixels\"/>"
      ],
      "text/plain": [
       "<IPython.core.display.Image object>"
      ]
     },
     "execution_count": 33,
     "metadata": {},
     "output_type": "execute_result"
    }
   ],
   "source": [
    "for i in range(2000,2022,1):\n",
    "    Start_Date = str(i) + '-01-01'\n",
    "    End_Date = str(i) + '-12-31'\n",
    "    Dataset = ee.ImageCollection('IDAHO_EPSCOR/TERRACLIMATE').filterDate(Start_Date,End_Date).select('pr')\n",
    "    precip = Dataset.sum().clip(alaska_bound)\n",
    "    link = precip.getDownloadURL({\n",
    "        'scale' : 90,\n",
    "        'crs' : 'EPSG:4269',\n",
    "        'fileFormat': 'GeoTIFF',\n",
    "        'region': roi,\n",
    "        'name': 'precip_' + str(i)     \n",
    "    })\n",
    "    print(Start_Date +\": \" + link)\n",
    "url = precip.getThumbUrl({\n",
    "    'min': -0, 'max': 9000 ,'region':roi,'dimensions':512,\n",
    "    'palette': ['006633', 'E5FFCC', '662A00', 'D8D8D8', 'F5F5F5']})\n",
    "Image(url=url)"
   ]
  },
  {
   "cell_type": "code",
   "execution_count": null,
   "id": "76781a0a",
   "metadata": {},
   "outputs": [],
   "source": []
  }
 ],
 "metadata": {
  "kernelspec": {
   "display_name": "Python 3 (ipykernel)",
   "language": "python",
   "name": "python3"
  },
  "language_info": {
   "codemirror_mode": {
    "name": "ipython",
    "version": 3
   },
   "file_extension": ".py",
   "mimetype": "text/x-python",
   "name": "python",
   "nbconvert_exporter": "python",
   "pygments_lexer": "ipython3",
   "version": "3.9.16"
  }
 },
 "nbformat": 4,
 "nbformat_minor": 5
}
