{
 "cells": [
  {
   "cell_type": "markdown",
   "id": "c237dea2",
   "metadata": {},
   "source": [
    " Import Required Libraries"
   ]
  },
  {
   "cell_type": "code",
   "execution_count": 1,
   "id": "3f3c643c",
   "metadata": {},
   "outputs": [],
   "source": [
    "import ee\n",
    "import geemap\n",
    "import pandas as pd\n",
    "from IPython.display import Image"
   ]
  },
  {
   "cell_type": "markdown",
   "id": "19603327",
   "metadata": {},
   "source": [
    "Authenticate Google Earth Engine"
   ]
  },
  {
   "cell_type": "code",
   "execution_count": 2,
   "id": "e7c74e5c",
   "metadata": {
    "scrolled": false
   },
   "outputs": [
    {
     "data": {
      "text/html": [
       "<p>To authorize access needed by Earth Engine, open the following\n",
       "        URL in a web browser and follow the instructions:</p>\n",
       "        <p><a href=https://code.earthengine.google.com/client-auth?scopes=https%3A//www.googleapis.com/auth/earthengine%20https%3A//www.googleapis.com/auth/devstorage.full_control&request_id=pBtmCCkIGfywmN-zvyXGCUGDiKLvt8gPwr9Y7MVM6UY&tc=QDev7uSLh63vmqYEhg-uFLMlGVfdYcSyeFIPRHK5HqE&cc=vzYK8mPhZ50T-i5kkhDkp4D9Rx4lnLPkYiXVU2R7vAk>https://code.earthengine.google.com/client-auth?scopes=https%3A//www.googleapis.com/auth/earthengine%20https%3A//www.googleapis.com/auth/devstorage.full_control&request_id=pBtmCCkIGfywmN-zvyXGCUGDiKLvt8gPwr9Y7MVM6UY&tc=QDev7uSLh63vmqYEhg-uFLMlGVfdYcSyeFIPRHK5HqE&cc=vzYK8mPhZ50T-i5kkhDkp4D9Rx4lnLPkYiXVU2R7vAk</a></p>\n",
       "        <p>The authorization workflow will generate a code, which you should paste in the box below.</p>\n",
       "        "
      ],
      "text/plain": [
       "<IPython.core.display.HTML object>"
      ]
     },
     "metadata": {},
     "output_type": "display_data"
    },
    {
     "name": "stdout",
     "output_type": "stream",
     "text": [
      "Enter verification code: 4/1AZEOvhV_OrpIsbxvGh2s7WiCWq3YBb3CCNAPdNEgfYZew5iq4rBXLYmuOKw\n",
      "\n",
      "Successfully saved authorization token.\n"
     ]
    }
   ],
   "source": [
    "ee.Authenticate()\n",
    "ee.Initialize()"
   ]
  },
  {
   "cell_type": "markdown",
   "id": "3cc2863c",
   "metadata": {},
   "source": [
    "Import Data"
   ]
  },
  {
   "cell_type": "code",
   "execution_count": 4,
   "id": "8c955cb3",
   "metadata": {},
   "outputs": [],
   "source": [
    "#Alaska boundary\n",
    "alaska_bound = ee.FeatureCollection('TIGER/2018/States').filter(ee.Filter.eq('STUSPS','AK'))\n",
    "\n",
    "#create section of Ykdelta\n",
    "lon = 62.83\n",
    "lat = -153\n",
    "poi = ee.Geometry.Point(lon,lat)\n",
    "poi_reprojected = poi.transform('EPSG:4269')\n",
    "box = [-165.3,62.2,-162.5,63.4]\n",
    "roi =  ee.Geometry.Rectangle(box)"
   ]
  },
  {
   "cell_type": "code",
   "execution_count": 5,
   "id": "a3f2f5a5",
   "metadata": {},
   "outputs": [
    {
     "data": {
      "text/html": [
       "<img src=\"https://earthengine.googleapis.com/v1alpha/projects/earthengine-legacy/thumbnails/4d74cac4d6a3f879200412b9825bbaba-c8ed676c4c1f1a346753cbc9c825b41a:getPixels\"/>"
      ],
      "text/plain": [
       "<IPython.core.display.Image object>"
      ]
     },
     "execution_count": 5,
     "metadata": {},
     "output_type": "execute_result"
    }
   ],
   "source": [
    "#Import Digital Elevation Model\n",
    "Dataset = ee.Image('USGS/3DEP/10m')\n",
    "Elevation = Dataset.select('elevation')\n",
    "\n",
    "#change alaska boundary to proper coordinate system\n",
    "alaska_bound_reprojected = alaska_bound.geometry().transform('EPSG:4269')\n",
    "\n",
    "#clip elevation to just alaska\n",
    "Elevation_Alaska = Elevation.clip(alaska_bound_reprojected)\n",
    "\n",
    "url = Elevation_Alaska.getThumbUrl({\n",
    "    'min': 0, 'max': 2500 ,'dimensions':512,\n",
    "    'palette': ['006633', 'E5FFCC', '662A00', 'D8D8D8', 'F5F5F5']})\n",
    "\n",
    "# Display\n",
    "Image(url=url)"
   ]
  },
  {
   "cell_type": "code",
   "execution_count": 6,
   "id": "dcaba9d0",
   "metadata": {},
   "outputs": [
    {
     "name": "stdout",
     "output_type": "stream",
     "text": [
      "https://earthengine.googleapis.com/v1alpha/projects/earthengine-legacy/thumbnails/9c9a4c1bb69f4e545decb8e385333006-072fec0f95b75bd3624c44c4c24da6ba:getPixels\n"
     ]
    },
    {
     "data": {
      "text/html": [
       "<img src=\"https://earthengine.googleapis.com/v1alpha/projects/earthengine-legacy/thumbnails/32482a69997a07f7f727605c46ad49ae-b5c1a27225d45c03b87c03c8c44f23d4:getPixels\"/>"
      ],
      "text/plain": [
       "<IPython.core.display.Image object>"
      ]
     },
     "execution_count": 6,
     "metadata": {},
     "output_type": "execute_result"
    }
   ],
   "source": [
    "Elevation_Alaska_reprojected = Elevation_Alaska.reproject(crs='WGS84')\n",
    "\n",
    "#get download link\n",
    "link = Elevation_Alaska.getDownloadURL({\n",
    "    'scale' : 70,\n",
    "    'crs' : 'EPSG:4269',\n",
    "    'fileFormat': 'GeoTIFF',\n",
    "    'region': roi,\n",
    "    'name': 'elevation'\n",
    "})\n",
    "print(link)\n",
    "\n",
    "url = Elevation_Alaska.getThumbUrl({\n",
    "    'min': 0, 'max': 2500 ,'region':roi,'dimensions':512,\n",
    "    'palette': ['006633', 'E5FFCC', '662A00', 'D8D8D8', 'F5F5F5']})\n",
    "Image(url=url)"
   ]
  },
  {
   "cell_type": "markdown",
   "id": "8b7811f7",
   "metadata": {},
   "source": [
    "Get Slope from DEM"
   ]
  },
  {
   "cell_type": "code",
   "execution_count": 7,
   "id": "49023df2",
   "metadata": {},
   "outputs": [
    {
     "data": {
      "text/html": [
       "<img src=\"https://earthengine.googleapis.com/v1alpha/projects/earthengine-legacy/thumbnails/540de3cc1b4d89ec4a3afb36e16fb39c-bb392586ad8bde20f32f0d5538167161:getPixels\"/>"
      ],
      "text/plain": [
       "<IPython.core.display.Image object>"
      ]
     },
     "execution_count": 7,
     "metadata": {},
     "output_type": "execute_result"
    }
   ],
   "source": [
    "Slope_Alaska = ee.Terrain.slope(Elevation_Alaska)\n",
    "\n",
    "\n",
    "url = Slope_Alaska.getThumbUrl({\n",
    "    'min': 0, 'max': 90 ,'dimensions':512,\n",
    "    'palette': ['006633', 'E5FFCC', '662A00', 'D8D8D8', 'F5F5F5']})\n",
    "\n",
    "# Display\n",
    "Image(url=url)"
   ]
  },
  {
   "cell_type": "code",
   "execution_count": 8,
   "id": "2ade3d21",
   "metadata": {},
   "outputs": [
    {
     "name": "stdout",
     "output_type": "stream",
     "text": [
      "https://earthengine.googleapis.com/v1alpha/projects/earthengine-legacy/thumbnails/46e55a7002689b95176f25dddb543d45-b9259592ee906b597c7a60695f6b1fab:getPixels\n"
     ]
    },
    {
     "data": {
      "text/html": [
       "<img src=\"https://earthengine.googleapis.com/v1alpha/projects/earthengine-legacy/thumbnails/3cc1a859e5967b7a29ae7961d2532fd2-ed495566519e4ea1ad8152250e604597:getPixels\"/>"
      ],
      "text/plain": [
       "<IPython.core.display.Image object>"
      ]
     },
     "execution_count": 8,
     "metadata": {},
     "output_type": "execute_result"
    }
   ],
   "source": [
    "#get download link\n",
    "\n",
    "link = Slope_Alaska.getDownloadURL({\n",
    "    'scale' : 70,\n",
    "    'crs' : 'EPSG:4269',\n",
    "    'fileFormat': 'GeoTIFF',\n",
    "    'region': roi,\n",
    "    'name': 'slope'\n",
    "})\n",
    "print(link)\n",
    "\n",
    "url = Slope_Alaska.getThumbUrl({\n",
    "    'min': 0, 'max': 90 ,'region':roi,'dimensions':512,\n",
    "    'palette': ['006633', 'E5FFCC', '662A00', 'D8D8D8', 'F5F5F5']})\n",
    "Image(url=url)"
   ]
  },
  {
   "cell_type": "code",
   "execution_count": 9,
   "id": "f37de923",
   "metadata": {},
   "outputs": [
    {
     "data": {
      "text/html": [
       "<img src=\"https://earthengine.googleapis.com/v1alpha/projects/earthengine-legacy/thumbnails/8e06af2214a33c1abd2d9d50ca11cfbb-ef7156b3462d9925677ac537bcb94b91:getPixels\"/>"
      ],
      "text/plain": [
       "<IPython.core.display.Image object>"
      ]
     },
     "execution_count": 9,
     "metadata": {},
     "output_type": "execute_result"
    }
   ],
   "source": [
    "Aspect_Alaska = ee.Terrain.aspect(Elevation_Alaska)\n",
    "\n",
    "url = Aspect_Alaska.getThumbUrl({\n",
    "    'min': 0, 'max': 360 ,'dimensions':512,\n",
    "    'palette': ['006633', 'E5FFCC', '662A00', 'D8D8D8', 'F5F5F5']})\n",
    "\n",
    "# Display\n",
    "Image(url=url)"
   ]
  },
  {
   "cell_type": "code",
   "execution_count": 10,
   "id": "da4ec5fd",
   "metadata": {},
   "outputs": [
    {
     "name": "stdout",
     "output_type": "stream",
     "text": [
      "https://earthengine.googleapis.com/v1alpha/projects/earthengine-legacy/thumbnails/5b97ffd766d4204ac066d1b2652aa056-6a81af676b69cb556bf1982551582d3c:getPixels\n"
     ]
    },
    {
     "data": {
      "text/html": [
       "<img src=\"https://earthengine.googleapis.com/v1alpha/projects/earthengine-legacy/thumbnails/2b10e4a0862ba6c97f71261db752979a-39ca04a5ea2747df2f4ad0aa56b67f44:getPixels\"/>"
      ],
      "text/plain": [
       "<IPython.core.display.Image object>"
      ]
     },
     "execution_count": 10,
     "metadata": {},
     "output_type": "execute_result"
    }
   ],
   "source": [
    "#get download link\n",
    "\n",
    "link = Aspect_Alaska.getDownloadURL({\n",
    "    'scale' : 70,\n",
    "    'crs' : 'EPSG:4269',\n",
    "    'fileFormat': 'GeoTIFF',\n",
    "    'region': roi,\n",
    "    'name': 'aspect'\n",
    "})\n",
    "print(link)\n",
    "\n",
    "url = Aspect_Alaska.getThumbUrl({\n",
    "    'min': 0, 'max': 360 ,'region':roi,'dimensions':512,\n",
    "    'palette': ['006633', 'E5FFCC', '662A00', 'D8D8D8', 'F5F5F5']})\n",
    "Image(url=url)"
   ]
  },
  {
   "cell_type": "code",
   "execution_count": 11,
   "id": "b7a49911",
   "metadata": {
    "scrolled": true
   },
   "outputs": [
    {
     "data": {
      "text/html": [
       "<img src=\"https://earthengine.googleapis.com/v1alpha/projects/earthengine-legacy/thumbnails/c6105c20d16eddf714ca25b683e2072f-778ea580fafe579fffc92340e0a8bf8e:getPixels\"/>"
      ],
      "text/plain": [
       "<IPython.core.display.Image object>"
      ]
     },
     "execution_count": 11,
     "metadata": {},
     "output_type": "execute_result"
    }
   ],
   "source": [
    "#NDVI\n",
    "Dataset = ee.ImageCollection('MODIS/061/MYD13Q1').filterDate('2018-01-01','2018-02-01')\n",
    "\n",
    "NDVI = Dataset.select('NDVI')\n",
    "#NDVI_Alaska = NDVI.clip('alaska_bound_reprojected')\n",
    "NDVI_Alaska = NDVI.mosaic().clip(alaska_bound)\n",
    "url = NDVI_Alaska.getThumbUrl({\n",
    "   'min': -2000, 'max': 10000 ,'region':alaska_bound.geometry(), 'dimensions':2048,\n",
    "   'palette': ['006633', 'E5FFCC', '662A00', 'D8D8D8', 'F5F5F5']})\n",
    "Image(url=url)"
   ]
  },
  {
   "cell_type": "code",
   "execution_count": 12,
   "id": "9820dcad",
   "metadata": {},
   "outputs": [
    {
     "name": "stdout",
     "output_type": "stream",
     "text": [
      "1965-01-01: https://earthengine.googleapis.com/v1alpha/projects/earthengine-legacy/thumbnails/6ddcb4db470e68d32bed4ba8ae8cc354-4e0ebfec3bc2f17a8e108f0a49b64a46:getPixels\n",
      "1970-01-01: https://earthengine.googleapis.com/v1alpha/projects/earthengine-legacy/thumbnails/f38e8c3c01b35b51a07722f97e9b1c48-5a43ed99f268e4e67b9c52bf1b8519fe:getPixels\n",
      "1975-01-01: https://earthengine.googleapis.com/v1alpha/projects/earthengine-legacy/thumbnails/75198363dc5be303dde0a25e5d3e6273-42aa8d9f1bb38256698c204d8b74fb63:getPixels\n",
      "1980-01-01: https://earthengine.googleapis.com/v1alpha/projects/earthengine-legacy/thumbnails/9f58b9d9555343262881d58df279e942-7eee1103979204fc14edede337300701:getPixels\n",
      "1985-01-01: https://earthengine.googleapis.com/v1alpha/projects/earthengine-legacy/thumbnails/9dc4c018627cd226563b13729e450827-1e9f61afba458861f7157c05ebe9d1b8:getPixels\n",
      "1990-01-01: https://earthengine.googleapis.com/v1alpha/projects/earthengine-legacy/thumbnails/3b538b032947d3a9f88f1d6546db0cfd-428e3caf64dc37aa68fe0531a9eff50b:getPixels\n",
      "1995-01-01: https://earthengine.googleapis.com/v1alpha/projects/earthengine-legacy/thumbnails/df6e3b1202bb7895ae6e5ec3ee165cc7-fe5aaeb8f1c32a3a67488c8fc2577428:getPixels\n",
      "2000-01-01: https://earthengine.googleapis.com/v1alpha/projects/earthengine-legacy/thumbnails/8441a028b3724f1f8682f83b4f7f7f3b-8a0d8449b2426f90b31df01d1c474d6d:getPixels\n",
      "2005-01-01: https://earthengine.googleapis.com/v1alpha/projects/earthengine-legacy/thumbnails/0f67a7a7db6471606a99d6f33d8b2e37-7ddede1b72d858f7b825559fad22239d:getPixels\n",
      "2010-01-01: https://earthengine.googleapis.com/v1alpha/projects/earthengine-legacy/thumbnails/65c33bcb2c8d64701aad9afe74174813-a640f7b91be55bfb17b8f0810e759a1c:getPixels\n",
      "2015-01-01: https://earthengine.googleapis.com/v1alpha/projects/earthengine-legacy/thumbnails/703159e47342e84883dce6409f4baac7-5b43ab47e345df9aeec0886bbce759a6:getPixels\n"
     ]
    },
    {
     "data": {
      "text/html": [
       "<img src=\"https://earthengine.googleapis.com/v1alpha/projects/earthengine-legacy/thumbnails/eaba5350ac2c0335ec3a1b19d0ae5dc5-c847cddfb8d9ffddd514a97314c40e81:getPixels\"/>"
      ],
      "text/plain": [
       "<IPython.core.display.Image object>"
      ]
     },
     "execution_count": 12,
     "metadata": {},
     "output_type": "execute_result"
    }
   ],
   "source": [
    "for i in range(1965,2020,5):\n",
    "    Start_Date = str(i) + '-01-01'\n",
    "    End_Date = str(i+4) + '-12-31'\n",
    "\n",
    "    Dataset = ee.ImageCollection('MODIS/061/MYD13Q1').filterDate(Start_Date,End_Date).select('NDVI')\n",
    "    NDVI_Alaska = NDVI.mosaic().clip(alaska_bound)\n",
    "    #get download link\n",
    "    link = NDVI_Alaska.getDownloadURL({\n",
    "        'scale' : 50,\n",
    "        'crs' : 'EPSG:4269',\n",
    "        'fileFormat': 'GeoTIFF',\n",
    "        'region': roi,\n",
    "        'name': 'NDVI_' + str(i)     \n",
    "    })\n",
    "    print(Start_Date +\": \" + link)\n",
    "\n",
    "url = NDVI_Alaska.getThumbUrl({\n",
    "    'min': -2000, 'max': 10000 ,'region':roi,'dimensions':512,\n",
    "    'palette': ['006633', 'E5FFCC', '662A00', 'D8D8D8', 'F5F5F5']})\n",
    "Image(url=url)\n",
    "    "
   ]
  },
  {
   "cell_type": "code",
   "execution_count": 87,
   "id": "fb5ab039",
   "metadata": {},
   "outputs": [
    {
     "data": {
      "text/html": [
       "<img src=\"https://earthengine.googleapis.com/v1alpha/projects/earthengine-legacy/thumbnails/e95e26d144a54d3a4e011aa53d724b1b-92a3eaea4ad4c8f7f4d0049ceebda44b:getPixels\"/>"
      ],
      "text/plain": [
       "<IPython.core.display.Image object>"
      ]
     },
     "execution_count": 87,
     "metadata": {},
     "output_type": "execute_result"
    }
   ],
   "source": [
    "Dataset = ee.ImageCollection('NOAA/CDR/AVHRR/NDVI/V5')\n",
    "NDVI = Dataset.select('NDVI')\n",
    "NDVI_test = NDVI.first()\n",
    "url = NDVI_test.getThumbUrl({\n",
    "   'min': 0, 'max': 8000, 'dimensions':1024,\n",
    "   'palette': ['006633', 'E5FFCC', '662A00', 'D8D8D8', 'F5F5F5']})\n",
    "Image(url=url)"
   ]
  },
  {
   "cell_type": "code",
   "execution_count": null,
   "id": "d2306463",
   "metadata": {},
   "outputs": [],
   "source": []
  }
 ],
 "metadata": {
  "kernelspec": {
   "display_name": "Python 3 (ipykernel)",
   "language": "python",
   "name": "python3"
  },
  "language_info": {
   "codemirror_mode": {
    "name": "ipython",
    "version": 3
   },
   "file_extension": ".py",
   "mimetype": "text/x-python",
   "name": "python",
   "nbconvert_exporter": "python",
   "pygments_lexer": "ipython3",
   "version": "3.9.16"
  }
 },
 "nbformat": 4,
 "nbformat_minor": 5
}
