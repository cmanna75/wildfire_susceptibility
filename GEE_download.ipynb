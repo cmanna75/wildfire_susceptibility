{
 "cells": [
  {
   "cell_type": "markdown",
   "id": "c237dea2",
   "metadata": {},
   "source": [
    " Import Required Libraries"
   ]
  },
  {
   "cell_type": "code",
   "execution_count": 1,
   "id": "3f3c643c",
   "metadata": {},
   "outputs": [],
   "source": [
    "import ee\n",
    "import geemap\n",
    "import pandas as pd\n",
    "from IPython.display import Image"
   ]
  },
  {
   "cell_type": "markdown",
   "id": "19603327",
   "metadata": {},
   "source": [
    "Authenticate Google Earth Engine"
   ]
  },
  {
   "cell_type": "code",
   "execution_count": 2,
   "id": "e7c74e5c",
   "metadata": {
    "scrolled": false
   },
   "outputs": [
    {
     "data": {
      "text/html": [
       "<p>To authorize access needed by Earth Engine, open the following\n",
       "        URL in a web browser and follow the instructions:</p>\n",
       "        <p><a href=https://code.earthengine.google.com/client-auth?scopes=https%3A//www.googleapis.com/auth/earthengine%20https%3A//www.googleapis.com/auth/devstorage.full_control&request_id=ylAEO5loyHHHgJGBwGXPEFsg_GvJx0WSq_hsDfuGeCs&tc=2Igii6tqjki71v0mfVG7kDsIUJxmtgaod7aoVFr6Bqs&cc=OOX3EGP7eguDU04UoDmhOiV0V2QnejbSpBmMv1Z0Kfg>https://code.earthengine.google.com/client-auth?scopes=https%3A//www.googleapis.com/auth/earthengine%20https%3A//www.googleapis.com/auth/devstorage.full_control&request_id=ylAEO5loyHHHgJGBwGXPEFsg_GvJx0WSq_hsDfuGeCs&tc=2Igii6tqjki71v0mfVG7kDsIUJxmtgaod7aoVFr6Bqs&cc=OOX3EGP7eguDU04UoDmhOiV0V2QnejbSpBmMv1Z0Kfg</a></p>\n",
       "        <p>The authorization workflow will generate a code, which you should paste in the box below.</p>\n",
       "        "
      ],
      "text/plain": [
       "<IPython.core.display.HTML object>"
      ]
     },
     "metadata": {},
     "output_type": "display_data"
    },
    {
     "name": "stdout",
     "output_type": "stream",
     "text": [
      "Enter verification code: 4/1AZEOvhU11ygwAJkBWj_jhpckJI0IeixutBEpag4kER6Z-ELD3iwmw3Dw61s\n",
      "\n",
      "Successfully saved authorization token.\n"
     ]
    }
   ],
   "source": [
    "ee.Authenticate()\n",
    "ee.Initialize()"
   ]
  },
  {
   "cell_type": "markdown",
   "id": "3cc2863c",
   "metadata": {},
   "source": [
    "Import Data"
   ]
  },
  {
   "cell_type": "code",
   "execution_count": 34,
   "id": "8c955cb3",
   "metadata": {},
   "outputs": [],
   "source": [
    "#Alaska boundary\n",
    "alaska_bound = ee.FeatureCollection('TIGER/2018/States').filter(ee.Filter.eq('STUSPS','AK'))"
   ]
  },
  {
   "cell_type": "code",
   "execution_count": 40,
   "id": "a3f2f5a5",
   "metadata": {},
   "outputs": [
    {
     "data": {
      "text/html": [
       "<img src=\"https://earthengine.googleapis.com/v1alpha/projects/earthengine-legacy/thumbnails/4d74cac4d6a3f879200412b9825bbaba-5b90c93d0df974f507255e46c8ff9fcc:getPixels\"/>"
      ],
      "text/plain": [
       "<IPython.core.display.Image object>"
      ]
     },
     "execution_count": 40,
     "metadata": {},
     "output_type": "execute_result"
    }
   ],
   "source": [
    "#Import Digital Elevation Model\n",
    "Dataset = ee.Image('USGS/3DEP/10m')\n",
    "Elevation = Dataset.select('elevation')\n",
    "\n",
    "#change alaska boundary to proper coordinate system\n",
    "alaska_bound_reprojected = alaska_bound.geometry().transform('EPSG:4269')\n",
    "\n",
    "#clip elevation to just alaska\n",
    "Elevation_Alaska = Elevation.clip(alaska_bound_reprojected)\n",
    "\n",
    "url = Elevation_Alaska.getThumbUrl({\n",
    "    'min': 0, 'max': 2500 ,'dimensions':512,\n",
    "    'palette': ['006633', 'E5FFCC', '662A00', 'D8D8D8', 'F5F5F5']})\n",
    "\n",
    "# Display a thumbnail of elevation in France.\n",
    "Image(url=url)\n",
    "#geemap.show_image(Elevation)"
   ]
  },
  {
   "cell_type": "code",
   "execution_count": 134,
   "id": "dcaba9d0",
   "metadata": {},
   "outputs": [
    {
     "name": "stdout",
     "output_type": "stream",
     "text": [
      "https://earthengine.googleapis.com/v1alpha/projects/earthengine-legacy/thumbnails/e5de9a9e0a033b8ac0d6ed3b9f98779b-9c46cfb317ef20b520f687967caf8478:getPixels\n"
     ]
    },
    {
     "data": {
      "text/html": [
       "<img src=\"https://earthengine.googleapis.com/v1alpha/projects/earthengine-legacy/thumbnails/32482a69997a07f7f727605c46ad49ae-3cb47765e50fd33795150553c4c5f08f:getPixels\"/>"
      ],
      "text/plain": [
       "<IPython.core.display.Image object>"
      ]
     },
     "execution_count": 134,
     "metadata": {},
     "output_type": "execute_result"
    }
   ],
   "source": [
    "Elevation_Alaska_reprojected = Elevation_Alaska.reproject(crs='WGS84')\n",
    "#print(Elevation_Alaska.projection().getInfo())\n",
    "#print(alaska_bound.projection().getInfo())\n",
    "#create section of Ykdelta\n",
    "lon = 62.83\n",
    "lat = -153\n",
    "poi = ee.Geometry.Point(lon,lat)\n",
    "poi_reprojected = poi.transform('EPSG:4269')\n",
    "box = [-165.3,62.2,-162.5,63.4]\n",
    "roi =  ee.Geometry.Rectangle(box)\n",
    "\n",
    "#get download link\n",
    "\n",
    "link = Elevation_Alaska.getDownloadURL({\n",
    "    'scale' : 70,\n",
    "    'crs' : 'EPSG:4269',\n",
    "    'fileFormat': 'GeoTIFF',\n",
    "    'region': roi\n",
    "})\n",
    "print(link)\n",
    "\n",
    "url = Elevation_Alaska.getThumbUrl({\n",
    "    'min': 0, 'max': 2500 ,'region':roi,'dimensions':512,\n",
    "    'palette': ['006633', 'E5FFCC', '662A00', 'D8D8D8', 'F5F5F5']})\n",
    "Image(url=url)"
   ]
  },
  {
   "cell_type": "code",
   "execution_count": 84,
   "id": "b7a49911",
   "metadata": {
    "scrolled": true
   },
   "outputs": [],
   "source": [
    "#NDVI\n",
    "Dataset = ee.ImageCollection('MODIS/061/MYD13Q1').filterDate('2018-01-01','2018-05-01')\n",
    "\n",
    "# Define the bounding box for Alaska\n",
    "earth_bbox = [-179,-89,179,89]\n",
    "earth_geometry = ee.Geometry.Rectangle(earth_bbox)\n",
    "\n",
    "alaska_bound_reprojected = alaska_bound.geometry().transform('SR-ORG:6974')\n",
    "\n",
    "NDVI = Dataset.select('NDVI')\n",
    "#NDVI_Alaska = NDVI.clip('alaska_bound_reprojected')\n",
    "NDVI_Alaska = NDVI.max()#.clip(alaska_bound_reprojected)\n",
    "url = NDVI_Alaska.getThumbUrl({\n",
    "   'min': 0, 'max': 8000 ,'region': earth_geometry, 'dimensions':1024,\n",
    "   'palette': ['006633', 'E5FFCC', '662A00', 'D8D8D8', 'F5F5F5']})\n",
    "#Image(url=url)"
   ]
  },
  {
   "cell_type": "code",
   "execution_count": 87,
   "id": "fb5ab039",
   "metadata": {},
   "outputs": [
    {
     "data": {
      "text/html": [
       "<img src=\"https://earthengine.googleapis.com/v1alpha/projects/earthengine-legacy/thumbnails/e95e26d144a54d3a4e011aa53d724b1b-92a3eaea4ad4c8f7f4d0049ceebda44b:getPixels\"/>"
      ],
      "text/plain": [
       "<IPython.core.display.Image object>"
      ]
     },
     "execution_count": 87,
     "metadata": {},
     "output_type": "execute_result"
    }
   ],
   "source": [
    "Dataset = ee.ImageCollection('NOAA/CDR/AVHRR/NDVI/V5')\n",
    "NDVI = Dataset.select('NDVI')\n",
    "NDVI_test = NDVI.first()\n",
    "url = NDVI_test.getThumbUrl({\n",
    "   'min': 0, 'max': 8000, 'dimensions':1024,\n",
    "   'palette': ['006633', 'E5FFCC', '662A00', 'D8D8D8', 'F5F5F5']})\n",
    "Image(url=url)"
   ]
  },
  {
   "cell_type": "code",
   "execution_count": null,
   "id": "d2306463",
   "metadata": {},
   "outputs": [],
   "source": []
  }
 ],
 "metadata": {
  "kernelspec": {
   "display_name": "Python 3 (ipykernel)",
   "language": "python",
   "name": "python3"
  },
  "language_info": {
   "codemirror_mode": {
    "name": "ipython",
    "version": 3
   },
   "file_extension": ".py",
   "mimetype": "text/x-python",
   "name": "python",
   "nbconvert_exporter": "python",
   "pygments_lexer": "ipython3",
   "version": "3.9.16"
  }
 },
 "nbformat": 4,
 "nbformat_minor": 5
}
